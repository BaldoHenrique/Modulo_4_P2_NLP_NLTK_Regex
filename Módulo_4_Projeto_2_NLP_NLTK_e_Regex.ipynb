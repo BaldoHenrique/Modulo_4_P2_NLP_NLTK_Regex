{
  "cells": [
    {
      "cell_type": "markdown",
      "metadata": {
        "id": "l44tvvIyl30l"
      },
      "source": [
        "#Projeto 2 - Classificador multi-rótulo - arXiv Paper Abstract\n",
        "##arXiv Paper Abstract - Kaggle\n",
        "Este é um conjunto de artigos contidos no arXiv com múltiplo rótulos."
      ]
    },
    {
      "cell_type": "markdown",
      "metadata": {
        "id": "NUNfdb_bl6qC"
      },
      "source": [
        "#Sobre este projeto\n",
        "Os principais pontos que serão avaliados:\n",
        "- Extração de dados\n",
        "- Manipulação de dados e criação de gráficos simples com o Pandas\n",
        "- Criar um modelo de predição\n",
        "- Apresentação dos resultados"
      ]
    },
    {
      "cell_type": "markdown",
      "metadata": {
        "id": "_Lo9c_rJl_Bv"
      },
      "source": [
        "#Preparação do ambiente\n",
        "Faça o download e carregue o dataset arXiv Paper Abstracts."
      ]
    },
    {
      "cell_type": "markdown",
      "metadata": {
        "id": "j9bnxTAAmBgI"
      },
      "source": [
        "#Preparação do ambiente\n",
        "Faça o download e carregue o dataset arXiv Paper Abstracts.\n",
        "##Exercícios\n",
        "- Questão 1) Faça a leitura dos dados e implemente rotinas de pré-processamento:\n",
        " - a) Implemente e justifique suas ações em relação ao tratamento dos rótulos (1,5 pontos)\n",
        "  - b) Implemente e justifique suas ações em relação aos dados (titles e abstacts) (1,5 pontos)\n",
        "- Questão 2) Faça uma análise visual do dataset após o pré-processamento. Explore gráficos e/ou tabelas para mostrar a distribuição dos rótulos. (1,0 ponto)\n",
        "- Questão 3) Escolha uma metodologia para extração de características considerando somente o título dos artigos científicos. (1,0 ponto)\n",
        "- Questão 4) Implemente o processo de classificação multi rótulos. Implemente 3 classificadores diferentes e compare suas performances. Escolha duas métricas distintas de sua escolha. Justifique suas escolhas e interprete os resultados (2,0 pontos)\n",
        "- Questão 5) Replique os mesmos experimentos de extração de características e classificação considerando somente a coluna abstract. (2,0 pontos)\n",
        "- Questão 6) Compare os resultados obtidos dos titles e abstracts. Qual atributo é mais discriminativo? (1,0 ponto)"
      ]
    },
    {
      "cell_type": "code",
      "execution_count": null,
      "metadata": {
        "id": "P8b-54VAmPRP"
      },
      "outputs": [],
      "source": [
        "import re\n",
        "\n",
        "import numpy as np\n",
        "import pandas as pd\n",
        "import matplotlib.pyplot as plt\n",
        "\n",
        "from nltk import word_tokenize\n",
        "from nltk.corpus import stopwords\n",
        "from nltk.stem import WordNetLemmatizer\n",
        "from nltk.stem import PorterStemmer\n",
        "\n",
        "from sklearn.preprocessing import MultiLabelBinarizer\n",
        "from sklearn.feature_extraction.text import CountVectorizer\n",
        "from sklearn.feature_extraction.text import TfidfVectorizer\n",
        "from sklearn.feature_extraction.text import TfidfTransformer\n",
        "from sklearn.feature_selection import SelectKBest, chi2\n",
        "from sklearn.model_selection import train_test_split\n",
        "\n",
        "from sklearn.multiclass import OneVsRestClassifier\n",
        "from sklearn.linear_model import SGDClassifier\n",
        "from sklearn.ensemble import RandomForestClassifier\n",
        "from sklearn.naive_bayes import GaussianNB,BernoulliNB,MultinomialNB\n",
        "from sklearn.linear_model import RidgeClassifier, LogisticRegressionCV\n",
        "\n",
        "from sklearn.metrics import f1_score, accuracy_score, precision_score, recall_score, auc, log_loss"
      ]
    },
    {
      "cell_type": "markdown",
      "source": [
        "##Questão 1) \n",
        "**Faça a leitura dos dados e implemente rotinas de pré-processamento** (3 pontos):"
      ],
      "metadata": {
        "id": "PhfRgp7RVcgE"
      }
    },
    {
      "cell_type": "markdown",
      "source": [
        "Usaremos a biblioteca NLTK, que é uma das principais bibliotecas de processamento de linguagem natural para estudo, pois contém muitos conjuntos de dados para análise e ferramentas de processamento de textos.\n",
        "\n",
        "Criamos uma lista com as stopwords em inglês, usaremos o lemma e stemmer para normalizar as palavras. O objeto MultiLabelBinarizer será usado para separar os rótulos em colunas e, por fim, CountVectorizer, TfidfVectorizer e TfidfTransformer serão usados para extrair características das sinopses."
      ],
      "metadata": {
        "id": "FDeAjPodW6eV"
      }
    },
    {
      "cell_type": "code",
      "execution_count": null,
      "metadata": {
        "colab": {
          "base_uri": "https://localhost:8080/"
        },
        "id": "g4cMst-q018w",
        "outputId": "000aefa4-869a-451e-9b72-7fcc746aafe0"
      },
      "outputs": [
        {
          "output_type": "stream",
          "name": "stderr",
          "text": [
            "[nltk_data] Downloading package stopwords to /root/nltk_data...\n",
            "[nltk_data]   Package stopwords is already up-to-date!\n"
          ]
        }
      ],
      "source": [
        "import nltk\n",
        "nltk.download('stopwords')\n",
        "\n",
        "stop_words = stopwords.words('english')\n",
        "lemmatizer = WordNetLemmatizer()\n",
        "stemmer = PorterStemmer()\n",
        "mlb = MultiLabelBinarizer()\n",
        "vectorizer = CountVectorizer(analyzer='word', ngram_range=(2, 2))\n",
        "Tvectorizer = TfidfVectorizer()\n",
        "tfidf_transformer = TfidfTransformer()"
      ]
    },
    {
      "cell_type": "markdown",
      "source": [
        "Aqui faremos a leitura do dados"
      ],
      "metadata": {
        "id": "SDOXIJaYXI9Z"
      }
    },
    {
      "cell_type": "code",
      "execution_count": null,
      "metadata": {
        "id": "vlhNMegC1nWb"
      },
      "outputs": [],
      "source": [
        "arxiv_data = pd.read_csv('/content/arxiv_data.csv')"
      ]
    },
    {
      "cell_type": "code",
      "execution_count": null,
      "metadata": {
        "id": "nHR2qk4_2mQ9"
      },
      "outputs": [],
      "source": [
        "# Versão alternativa\n",
        "# arxiv_data = pd.read_csv(\n",
        "#     \"https://github.com/soumik12345/multi-label-text-classification/releases/download/v0.2/arxiv_data.csv\"\n",
        "# )\n"
      ]
    },
    {
      "cell_type": "markdown",
      "source": [
        "Para Começar gostamos de entender o dados com os quais iremos trabalhar, neste caso serão artigos. O dados são compostos por 3 tipos de colunas, os títulos dos artigos, os resumos e por fim a classificação destes artigos, o assunto de que se trata, pode ser mais de um.\n",
        "\n",
        "O objetivo deste projeto é, atravéz dos títulos e dos resumos, prever de quais assuntos este trata, iremos tratar os dados para que fiquem o mais padronizado possível, assim teremos uma boa predição.\n",
        "\n",
        "Abaixo usaremos código para entender melhor sobre o dados."
      ],
      "metadata": {
        "id": "XQQhxB9CXVPZ"
      }
    },
    {
      "cell_type": "code",
      "execution_count": null,
      "metadata": {
        "colab": {
          "base_uri": "https://localhost:8080/"
        },
        "id": "TKF8qCJRIWtl",
        "outputId": "f98d8e2d-ed94-477e-f475-649381bbd512"
      },
      "outputs": [
        {
          "output_type": "execute_result",
          "data": {
            "text/plain": [
              "(51774, 3)"
            ]
          },
          "metadata": {},
          "execution_count": 30
        }
      ],
      "source": [
        "#tamanho do dataset\n",
        "arxiv_data.shape"
      ]
    },
    {
      "cell_type": "code",
      "execution_count": null,
      "metadata": {
        "colab": {
          "base_uri": "https://localhost:8080/",
          "height": 206
        },
        "id": "xEqZDVIi2vU8",
        "outputId": "7d1e81b1-e1ff-477c-9f11-1e681b71b9c1"
      },
      "outputs": [
        {
          "output_type": "execute_result",
          "data": {
            "text/plain": [
              "                                              titles  \\\n",
              "0  Survey on Semantic Stereo Matching / Semantic ...   \n",
              "1  FUTURE-AI: Guiding Principles and Consensus Re...   \n",
              "2  Enforcing Mutual Consistency of Hard Regions f...   \n",
              "3  Parameter Decoupling Strategy for Semi-supervi...   \n",
              "4  Background-Foreground Segmentation for Interio...   \n",
              "\n",
              "                                           summaries  \\\n",
              "0  Stereo matching is one of the widely used tech...   \n",
              "1  The recent advancements in artificial intellig...   \n",
              "2  In this paper, we proposed a novel mutual cons...   \n",
              "3  Consistency training has proven to be an advan...   \n",
              "4  To ensure safety in automated driving, the cor...   \n",
              "\n",
              "                         terms  \n",
              "0           ['cs.CV', 'cs.LG']  \n",
              "1  ['cs.CV', 'cs.AI', 'cs.LG']  \n",
              "2           ['cs.CV', 'cs.AI']  \n",
              "3                    ['cs.CV']  \n",
              "4           ['cs.CV', 'cs.LG']  "
            ],
            "text/html": [
              "\n",
              "  <div id=\"df-8a5fff9a-9ac8-4667-a6e5-445d1b6266d6\">\n",
              "    <div class=\"colab-df-container\">\n",
              "      <div>\n",
              "<style scoped>\n",
              "    .dataframe tbody tr th:only-of-type {\n",
              "        vertical-align: middle;\n",
              "    }\n",
              "\n",
              "    .dataframe tbody tr th {\n",
              "        vertical-align: top;\n",
              "    }\n",
              "\n",
              "    .dataframe thead th {\n",
              "        text-align: right;\n",
              "    }\n",
              "</style>\n",
              "<table border=\"1\" class=\"dataframe\">\n",
              "  <thead>\n",
              "    <tr style=\"text-align: right;\">\n",
              "      <th></th>\n",
              "      <th>titles</th>\n",
              "      <th>summaries</th>\n",
              "      <th>terms</th>\n",
              "    </tr>\n",
              "  </thead>\n",
              "  <tbody>\n",
              "    <tr>\n",
              "      <th>0</th>\n",
              "      <td>Survey on Semantic Stereo Matching / Semantic ...</td>\n",
              "      <td>Stereo matching is one of the widely used tech...</td>\n",
              "      <td>['cs.CV', 'cs.LG']</td>\n",
              "    </tr>\n",
              "    <tr>\n",
              "      <th>1</th>\n",
              "      <td>FUTURE-AI: Guiding Principles and Consensus Re...</td>\n",
              "      <td>The recent advancements in artificial intellig...</td>\n",
              "      <td>['cs.CV', 'cs.AI', 'cs.LG']</td>\n",
              "    </tr>\n",
              "    <tr>\n",
              "      <th>2</th>\n",
              "      <td>Enforcing Mutual Consistency of Hard Regions f...</td>\n",
              "      <td>In this paper, we proposed a novel mutual cons...</td>\n",
              "      <td>['cs.CV', 'cs.AI']</td>\n",
              "    </tr>\n",
              "    <tr>\n",
              "      <th>3</th>\n",
              "      <td>Parameter Decoupling Strategy for Semi-supervi...</td>\n",
              "      <td>Consistency training has proven to be an advan...</td>\n",
              "      <td>['cs.CV']</td>\n",
              "    </tr>\n",
              "    <tr>\n",
              "      <th>4</th>\n",
              "      <td>Background-Foreground Segmentation for Interio...</td>\n",
              "      <td>To ensure safety in automated driving, the cor...</td>\n",
              "      <td>['cs.CV', 'cs.LG']</td>\n",
              "    </tr>\n",
              "  </tbody>\n",
              "</table>\n",
              "</div>\n",
              "      <button class=\"colab-df-convert\" onclick=\"convertToInteractive('df-8a5fff9a-9ac8-4667-a6e5-445d1b6266d6')\"\n",
              "              title=\"Convert this dataframe to an interactive table.\"\n",
              "              style=\"display:none;\">\n",
              "        \n",
              "  <svg xmlns=\"http://www.w3.org/2000/svg\" height=\"24px\"viewBox=\"0 0 24 24\"\n",
              "       width=\"24px\">\n",
              "    <path d=\"M0 0h24v24H0V0z\" fill=\"none\"/>\n",
              "    <path d=\"M18.56 5.44l.94 2.06.94-2.06 2.06-.94-2.06-.94-.94-2.06-.94 2.06-2.06.94zm-11 1L8.5 8.5l.94-2.06 2.06-.94-2.06-.94L8.5 2.5l-.94 2.06-2.06.94zm10 10l.94 2.06.94-2.06 2.06-.94-2.06-.94-.94-2.06-.94 2.06-2.06.94z\"/><path d=\"M17.41 7.96l-1.37-1.37c-.4-.4-.92-.59-1.43-.59-.52 0-1.04.2-1.43.59L10.3 9.45l-7.72 7.72c-.78.78-.78 2.05 0 2.83L4 21.41c.39.39.9.59 1.41.59.51 0 1.02-.2 1.41-.59l7.78-7.78 2.81-2.81c.8-.78.8-2.07 0-2.86zM5.41 20L4 18.59l7.72-7.72 1.47 1.35L5.41 20z\"/>\n",
              "  </svg>\n",
              "      </button>\n",
              "      \n",
              "  <style>\n",
              "    .colab-df-container {\n",
              "      display:flex;\n",
              "      flex-wrap:wrap;\n",
              "      gap: 12px;\n",
              "    }\n",
              "\n",
              "    .colab-df-convert {\n",
              "      background-color: #E8F0FE;\n",
              "      border: none;\n",
              "      border-radius: 50%;\n",
              "      cursor: pointer;\n",
              "      display: none;\n",
              "      fill: #1967D2;\n",
              "      height: 32px;\n",
              "      padding: 0 0 0 0;\n",
              "      width: 32px;\n",
              "    }\n",
              "\n",
              "    .colab-df-convert:hover {\n",
              "      background-color: #E2EBFA;\n",
              "      box-shadow: 0px 1px 2px rgba(60, 64, 67, 0.3), 0px 1px 3px 1px rgba(60, 64, 67, 0.15);\n",
              "      fill: #174EA6;\n",
              "    }\n",
              "\n",
              "    [theme=dark] .colab-df-convert {\n",
              "      background-color: #3B4455;\n",
              "      fill: #D2E3FC;\n",
              "    }\n",
              "\n",
              "    [theme=dark] .colab-df-convert:hover {\n",
              "      background-color: #434B5C;\n",
              "      box-shadow: 0px 1px 3px 1px rgba(0, 0, 0, 0.15);\n",
              "      filter: drop-shadow(0px 1px 2px rgba(0, 0, 0, 0.3));\n",
              "      fill: #FFFFFF;\n",
              "    }\n",
              "  </style>\n",
              "\n",
              "      <script>\n",
              "        const buttonEl =\n",
              "          document.querySelector('#df-8a5fff9a-9ac8-4667-a6e5-445d1b6266d6 button.colab-df-convert');\n",
              "        buttonEl.style.display =\n",
              "          google.colab.kernel.accessAllowed ? 'block' : 'none';\n",
              "\n",
              "        async function convertToInteractive(key) {\n",
              "          const element = document.querySelector('#df-8a5fff9a-9ac8-4667-a6e5-445d1b6266d6');\n",
              "          const dataTable =\n",
              "            await google.colab.kernel.invokeFunction('convertToInteractive',\n",
              "                                                     [key], {});\n",
              "          if (!dataTable) return;\n",
              "\n",
              "          const docLinkHtml = 'Like what you see? Visit the ' +\n",
              "            '<a target=\"_blank\" href=https://colab.research.google.com/notebooks/data_table.ipynb>data table notebook</a>'\n",
              "            + ' to learn more about interactive tables.';\n",
              "          element.innerHTML = '';\n",
              "          dataTable['output_type'] = 'display_data';\n",
              "          await google.colab.output.renderOutput(dataTable, element);\n",
              "          const docLink = document.createElement('div');\n",
              "          docLink.innerHTML = docLinkHtml;\n",
              "          element.appendChild(docLink);\n",
              "        }\n",
              "      </script>\n",
              "    </div>\n",
              "  </div>\n",
              "  "
            ]
          },
          "metadata": {},
          "execution_count": 31
        }
      ],
      "source": [
        "#ver apresentação do dataset\n",
        "arxiv_data.head()"
      ]
    },
    {
      "cell_type": "markdown",
      "source": [
        "**a) Implemente e justifique suas ações em relação ao tratamento dos rótulos** (1,5 pontos)"
      ],
      "metadata": {
        "id": "jX3pEKQnW070"
      }
    },
    {
      "cell_type": "markdown",
      "source": [
        "Agora vamos verificar a quantidade de vezes que cada rótulo se repete, assim podemos ver quais são os mais comuns, teoricamente os mais padronizados."
      ],
      "metadata": {
        "id": "ckqaT2-dZCUO"
      }
    },
    {
      "cell_type": "code",
      "execution_count": null,
      "metadata": {
        "colab": {
          "base_uri": "https://localhost:8080/"
        },
        "id": "f6yI6bVW3ChQ",
        "outputId": "dbb95031-13b3-4557-d1ea-1e48b63248b4"
      },
      "outputs": [
        {
          "output_type": "execute_result",
          "data": {
            "text/plain": [
              "['cs.CV']                                                            17369\n",
              "['cs.LG', 'stat.ML']                                                  5251\n",
              "['cs.LG']                                                             2732\n",
              "['cs.CV', 'cs.LG']                                                    2067\n",
              "['cs.LG', 'cs.AI']                                                    1702\n",
              "                                                                     ...  \n",
              "['cs.LG', 'stat.ML', 'I.6.4; I.5.3; I.4.6; I.2.4']                       1\n",
              "['cs.LG', 'math.ST', 'stat.ML', 'stat.TH', '62H22, 62R01, 62J99']        1\n",
              "['cs.LG', 'cs.RO', 'math.ST', 'stat.TH']                                 1\n",
              "['cs.LG', 'cs.AI', 'cs.DS', '68T01, 68T09', 'I.2.6; I.5.1']              1\n",
              "['stat.ML', 'cs.CV', 'cs.LG', 'q-bio.QM']                                1\n",
              "Name: terms, Length: 3157, dtype: int64"
            ]
          },
          "metadata": {},
          "execution_count": 32
        }
      ],
      "source": [
        "arxiv_data.terms.value_counts()"
      ]
    },
    {
      "cell_type": "markdown",
      "source": [
        "Agora podemos fazer teste e verificar se é vantajoso manter todos os dados ou excluir os que tem poucas repetições.\n",
        "Com certeza isso terá impacto no resultado final do nosso projeto, então é importante fazer testes e entender qual escolha nos levará à melhor precisão."
      ],
      "metadata": {
        "id": "GS_Th_WSZhm3"
      }
    },
    {
      "cell_type": "code",
      "execution_count": null,
      "metadata": {
        "id": "Ml5P2ebg32SX"
      },
      "outputs": [],
      "source": [
        "contagem = arxiv_data.terms.value_counts()\n",
        "manter = contagem[contagem > 50]\n",
        "arxiv_data = arxiv_data[arxiv_data.terms.isin(manter.index)].reset_index(drop=True)"
      ]
    },
    {
      "cell_type": "markdown",
      "source": [
        "Foi feita a filtragem para que fiquem somente os que se repetem pelo menos 50 vezes."
      ],
      "metadata": {
        "id": "nnEEoyLCsupy"
      }
    },
    {
      "cell_type": "markdown",
      "source": [
        "**b) Implemente e justifique suas ações em relação aos dados (titles e abstacts)** (1,5 pontos)"
      ],
      "metadata": {
        "id": "yzuRp1XDdWvV"
      }
    },
    {
      "cell_type": "markdown",
      "source": [
        "Logo de começo vamos verficar se existem dados duplicados, pois estes não nos ajudam na predição e nos fazem gastar mais tempo e recursos."
      ],
      "metadata": {
        "id": "3y2up7KRYmm-"
      }
    },
    {
      "cell_type": "code",
      "source": [
        "arxiv_data[arxiv_data[\"titles\"].duplicated()]"
      ],
      "metadata": {
        "colab": {
          "base_uri": "https://localhost:8080/",
          "height": 423
        },
        "id": "QDqsZK7g6KJa",
        "outputId": "3db3e11c-33a2-4071-8342-02eeede5aa7c"
      },
      "execution_count": null,
      "outputs": [
        {
          "output_type": "execute_result",
          "data": {
            "text/plain": [
              "                                                  titles  \\\n",
              "1253   Towards to Robust and Generalized Medical Imag...   \n",
              "1312   Box-Adapt: Domain-Adaptive Medical Image Segme...   \n",
              "1322   PoissonSeg: Semi-Supervised Few-Shot Medical I...   \n",
              "1358   SimCVD: Simple Contrastive Voxel-Wise Represen...   \n",
              "1379   Contrastive Semi-Supervised Learning for 2D Me...   \n",
              "...                                                  ...   \n",
              "42763  Objective-Reinforced Generative Adversarial Ne...   \n",
              "42764  Graph Memory Networks for Molecular Activity P...   \n",
              "42767  Stacked Denoising Autoencoders and Transfer Le...   \n",
              "42771  Graph Convolution: A High-Order and Adaptive A...   \n",
              "42774  ChemGAN challenge for drug discovery: can AI r...   \n",
              "\n",
              "                                               summaries  \\\n",
              "1253   To mitigate the radiologist's workload, comput...   \n",
              "1312   Deep learning has achieved remarkable success ...   \n",
              "1322   The application of deep learning to medical im...   \n",
              "1358   Automated segmentation in medical image analys...   \n",
              "1379   Contrastive Learning (CL) is a recent represen...   \n",
              "...                                                  ...   \n",
              "42763  In unsupervised data generation tasks, besides...   \n",
              "42764  Molecular activity prediction is critical in d...   \n",
              "42767  In this paper we present a system for the dete...   \n",
              "42771  In this paper, we presented a novel convolutio...   \n",
              "42774  Generating molecules with desired chemical pro...   \n",
              "\n",
              "                               terms  \n",
              "1253              ['cs.CV', 'cs.AI']  \n",
              "1312                       ['cs.CV']  \n",
              "1322              ['cs.CV', 'cs.LG']  \n",
              "1358     ['cs.CV', 'cs.AI', 'cs.LG']  \n",
              "1379                       ['cs.CV']  \n",
              "...                              ...  \n",
              "42763           ['stat.ML', 'cs.LG']  \n",
              "42764                      ['cs.LG']  \n",
              "42767                      ['cs.CV']  \n",
              "42771           ['cs.LG', 'stat.ML']  \n",
              "42774  ['stat.ML', 'cs.AI', 'cs.LG']  \n",
              "\n",
              "[10816 rows x 3 columns]"
            ],
            "text/html": [
              "\n",
              "  <div id=\"df-e068b499-5c02-4a74-9cf3-5139a170af20\">\n",
              "    <div class=\"colab-df-container\">\n",
              "      <div>\n",
              "<style scoped>\n",
              "    .dataframe tbody tr th:only-of-type {\n",
              "        vertical-align: middle;\n",
              "    }\n",
              "\n",
              "    .dataframe tbody tr th {\n",
              "        vertical-align: top;\n",
              "    }\n",
              "\n",
              "    .dataframe thead th {\n",
              "        text-align: right;\n",
              "    }\n",
              "</style>\n",
              "<table border=\"1\" class=\"dataframe\">\n",
              "  <thead>\n",
              "    <tr style=\"text-align: right;\">\n",
              "      <th></th>\n",
              "      <th>titles</th>\n",
              "      <th>summaries</th>\n",
              "      <th>terms</th>\n",
              "    </tr>\n",
              "  </thead>\n",
              "  <tbody>\n",
              "    <tr>\n",
              "      <th>1253</th>\n",
              "      <td>Towards to Robust and Generalized Medical Imag...</td>\n",
              "      <td>To mitigate the radiologist's workload, comput...</td>\n",
              "      <td>['cs.CV', 'cs.AI']</td>\n",
              "    </tr>\n",
              "    <tr>\n",
              "      <th>1312</th>\n",
              "      <td>Box-Adapt: Domain-Adaptive Medical Image Segme...</td>\n",
              "      <td>Deep learning has achieved remarkable success ...</td>\n",
              "      <td>['cs.CV']</td>\n",
              "    </tr>\n",
              "    <tr>\n",
              "      <th>1322</th>\n",
              "      <td>PoissonSeg: Semi-Supervised Few-Shot Medical I...</td>\n",
              "      <td>The application of deep learning to medical im...</td>\n",
              "      <td>['cs.CV', 'cs.LG']</td>\n",
              "    </tr>\n",
              "    <tr>\n",
              "      <th>1358</th>\n",
              "      <td>SimCVD: Simple Contrastive Voxel-Wise Represen...</td>\n",
              "      <td>Automated segmentation in medical image analys...</td>\n",
              "      <td>['cs.CV', 'cs.AI', 'cs.LG']</td>\n",
              "    </tr>\n",
              "    <tr>\n",
              "      <th>1379</th>\n",
              "      <td>Contrastive Semi-Supervised Learning for 2D Me...</td>\n",
              "      <td>Contrastive Learning (CL) is a recent represen...</td>\n",
              "      <td>['cs.CV']</td>\n",
              "    </tr>\n",
              "    <tr>\n",
              "      <th>...</th>\n",
              "      <td>...</td>\n",
              "      <td>...</td>\n",
              "      <td>...</td>\n",
              "    </tr>\n",
              "    <tr>\n",
              "      <th>42763</th>\n",
              "      <td>Objective-Reinforced Generative Adversarial Ne...</td>\n",
              "      <td>In unsupervised data generation tasks, besides...</td>\n",
              "      <td>['stat.ML', 'cs.LG']</td>\n",
              "    </tr>\n",
              "    <tr>\n",
              "      <th>42764</th>\n",
              "      <td>Graph Memory Networks for Molecular Activity P...</td>\n",
              "      <td>Molecular activity prediction is critical in d...</td>\n",
              "      <td>['cs.LG']</td>\n",
              "    </tr>\n",
              "    <tr>\n",
              "      <th>42767</th>\n",
              "      <td>Stacked Denoising Autoencoders and Transfer Le...</td>\n",
              "      <td>In this paper we present a system for the dete...</td>\n",
              "      <td>['cs.CV']</td>\n",
              "    </tr>\n",
              "    <tr>\n",
              "      <th>42771</th>\n",
              "      <td>Graph Convolution: A High-Order and Adaptive A...</td>\n",
              "      <td>In this paper, we presented a novel convolutio...</td>\n",
              "      <td>['cs.LG', 'stat.ML']</td>\n",
              "    </tr>\n",
              "    <tr>\n",
              "      <th>42774</th>\n",
              "      <td>ChemGAN challenge for drug discovery: can AI r...</td>\n",
              "      <td>Generating molecules with desired chemical pro...</td>\n",
              "      <td>['stat.ML', 'cs.AI', 'cs.LG']</td>\n",
              "    </tr>\n",
              "  </tbody>\n",
              "</table>\n",
              "<p>10816 rows × 3 columns</p>\n",
              "</div>\n",
              "      <button class=\"colab-df-convert\" onclick=\"convertToInteractive('df-e068b499-5c02-4a74-9cf3-5139a170af20')\"\n",
              "              title=\"Convert this dataframe to an interactive table.\"\n",
              "              style=\"display:none;\">\n",
              "        \n",
              "  <svg xmlns=\"http://www.w3.org/2000/svg\" height=\"24px\"viewBox=\"0 0 24 24\"\n",
              "       width=\"24px\">\n",
              "    <path d=\"M0 0h24v24H0V0z\" fill=\"none\"/>\n",
              "    <path d=\"M18.56 5.44l.94 2.06.94-2.06 2.06-.94-2.06-.94-.94-2.06-.94 2.06-2.06.94zm-11 1L8.5 8.5l.94-2.06 2.06-.94-2.06-.94L8.5 2.5l-.94 2.06-2.06.94zm10 10l.94 2.06.94-2.06 2.06-.94-2.06-.94-.94-2.06-.94 2.06-2.06.94z\"/><path d=\"M17.41 7.96l-1.37-1.37c-.4-.4-.92-.59-1.43-.59-.52 0-1.04.2-1.43.59L10.3 9.45l-7.72 7.72c-.78.78-.78 2.05 0 2.83L4 21.41c.39.39.9.59 1.41.59.51 0 1.02-.2 1.41-.59l7.78-7.78 2.81-2.81c.8-.78.8-2.07 0-2.86zM5.41 20L4 18.59l7.72-7.72 1.47 1.35L5.41 20z\"/>\n",
              "  </svg>\n",
              "      </button>\n",
              "      \n",
              "  <style>\n",
              "    .colab-df-container {\n",
              "      display:flex;\n",
              "      flex-wrap:wrap;\n",
              "      gap: 12px;\n",
              "    }\n",
              "\n",
              "    .colab-df-convert {\n",
              "      background-color: #E8F0FE;\n",
              "      border: none;\n",
              "      border-radius: 50%;\n",
              "      cursor: pointer;\n",
              "      display: none;\n",
              "      fill: #1967D2;\n",
              "      height: 32px;\n",
              "      padding: 0 0 0 0;\n",
              "      width: 32px;\n",
              "    }\n",
              "\n",
              "    .colab-df-convert:hover {\n",
              "      background-color: #E2EBFA;\n",
              "      box-shadow: 0px 1px 2px rgba(60, 64, 67, 0.3), 0px 1px 3px 1px rgba(60, 64, 67, 0.15);\n",
              "      fill: #174EA6;\n",
              "    }\n",
              "\n",
              "    [theme=dark] .colab-df-convert {\n",
              "      background-color: #3B4455;\n",
              "      fill: #D2E3FC;\n",
              "    }\n",
              "\n",
              "    [theme=dark] .colab-df-convert:hover {\n",
              "      background-color: #434B5C;\n",
              "      box-shadow: 0px 1px 3px 1px rgba(0, 0, 0, 0.15);\n",
              "      filter: drop-shadow(0px 1px 2px rgba(0, 0, 0, 0.3));\n",
              "      fill: #FFFFFF;\n",
              "    }\n",
              "  </style>\n",
              "\n",
              "      <script>\n",
              "        const buttonEl =\n",
              "          document.querySelector('#df-e068b499-5c02-4a74-9cf3-5139a170af20 button.colab-df-convert');\n",
              "        buttonEl.style.display =\n",
              "          google.colab.kernel.accessAllowed ? 'block' : 'none';\n",
              "\n",
              "        async function convertToInteractive(key) {\n",
              "          const element = document.querySelector('#df-e068b499-5c02-4a74-9cf3-5139a170af20');\n",
              "          const dataTable =\n",
              "            await google.colab.kernel.invokeFunction('convertToInteractive',\n",
              "                                                     [key], {});\n",
              "          if (!dataTable) return;\n",
              "\n",
              "          const docLinkHtml = 'Like what you see? Visit the ' +\n",
              "            '<a target=\"_blank\" href=https://colab.research.google.com/notebooks/data_table.ipynb>data table notebook</a>'\n",
              "            + ' to learn more about interactive tables.';\n",
              "          element.innerHTML = '';\n",
              "          dataTable['output_type'] = 'display_data';\n",
              "          await google.colab.output.renderOutput(dataTable, element);\n",
              "          const docLink = document.createElement('div');\n",
              "          docLink.innerHTML = docLinkHtml;\n",
              "          element.appendChild(docLink);\n",
              "        }\n",
              "      </script>\n",
              "    </div>\n",
              "  </div>\n",
              "  "
            ]
          },
          "metadata": {},
          "execution_count": 34
        }
      ]
    },
    {
      "cell_type": "markdown",
      "source": [
        "Podemos verificar a existencia de 10816 artigos repetidos, vamos eliminá-los e manter apenas um de cada."
      ],
      "metadata": {
        "id": "zzNvzGLpY48O"
      }
    },
    {
      "cell_type": "code",
      "execution_count": null,
      "metadata": {
        "colab": {
          "base_uri": "https://localhost:8080/"
        },
        "id": "z2SS-zGLIuv3",
        "outputId": "74878889-3052-44a4-e979-e14c20f167be"
      },
      "outputs": [
        {
          "output_type": "execute_result",
          "data": {
            "text/plain": [
              "953      Partial Membership Latent Dirichlet Allocation\n",
              "16067    Partial Membership Latent Dirichlet Allocation\n",
              "Name: titles, dtype: object"
            ]
          },
          "metadata": {},
          "execution_count": 35
        }
      ],
      "source": [
        "arxiv_data[\"titles\"][arxiv_data[\"titles\"] == 'Partial Membership Latent Dirichlet Allocation']"
      ]
    },
    {
      "cell_type": "code",
      "execution_count": null,
      "metadata": {
        "id": "xW6C-JsQIQe_"
      },
      "outputs": [],
      "source": [
        "dropar = arxiv_data[\"titles\"].drop_duplicates(keep ='first')\n",
        "arxiv_data = arxiv_data.iloc[dropar.index,:]"
      ]
    },
    {
      "cell_type": "markdown",
      "source": [
        "Agora vamos fazer variáveis para cada coluna, assim irá facilitar a manipulação dos dados"
      ],
      "metadata": {
        "id": "OzMJUIMndi88"
      }
    },
    {
      "cell_type": "code",
      "execution_count": null,
      "metadata": {
        "id": "-3pcvpEt5LAW"
      },
      "outputs": [],
      "source": [
        "titles = arxiv_data.titles\n",
        "summaries = arxiv_data.summaries\n",
        "terms  = arxiv_data.terms.apply(lambda x : [n.strip() for n in x.split(',')]).tolist()"
      ]
    },
    {
      "cell_type": "markdown",
      "source": [
        "O próximo passo, separaremos os rótulos em colunas preenchidos com 0 e 1"
      ],
      "metadata": {
        "id": "UP5C02qGiolg"
      }
    },
    {
      "cell_type": "code",
      "execution_count": null,
      "metadata": {
        "id": "dH-BR5uC50fs"
      },
      "outputs": [],
      "source": [
        "mlb.fit(terms)\n",
        "y = mlb.transform(terms)"
      ]
    },
    {
      "cell_type": "code",
      "source": [
        "y[1]"
      ],
      "metadata": {
        "colab": {
          "base_uri": "https://localhost:8080/"
        },
        "id": "HET_Ys1uO4pW",
        "outputId": "8c0c9984-264f-468f-ec3b-4f9b4e4729cb"
      },
      "execution_count": null,
      "outputs": [
        {
          "output_type": "execute_result",
          "data": {
            "text/plain": [
              "array([1, 0, 0, 0, 0, 0, 0, 0, 0, 0, 0, 0, 0, 0, 1, 0, 0, 0, 0, 0, 0, 0,\n",
              "       0, 0, 0, 0, 0, 0, 0, 0, 0, 0, 0, 0, 0, 1, 0, 0, 0, 0, 0])"
            ]
          },
          "metadata": {},
          "execution_count": 39
        }
      ]
    },
    {
      "cell_type": "code",
      "execution_count": null,
      "metadata": {
        "colab": {
          "base_uri": "https://localhost:8080/"
        },
        "id": "XXeAUdCw8HAV",
        "outputId": "46bbd33b-b039-4996-a6bc-490f839dc04a"
      },
      "outputs": [
        {
          "output_type": "stream",
          "name": "stderr",
          "text": [
            "[nltk_data] Downloading package punkt to /root/nltk_data...\n",
            "[nltk_data]   Package punkt is already up-to-date!\n",
            "[nltk_data] Downloading package wordnet to /root/nltk_data...\n",
            "[nltk_data]   Package wordnet is already up-to-date!\n",
            "[nltk_data] Downloading package omw-1.4 to /root/nltk_data...\n",
            "[nltk_data]   Package omw-1.4 is already up-to-date!\n"
          ]
        },
        {
          "output_type": "execute_result",
          "data": {
            "text/plain": [
              "True"
            ]
          },
          "metadata": {},
          "execution_count": 40
        }
      ],
      "source": [
        "#downloads necessários para rodar o código abaixo\n",
        "import nltk\n",
        "nltk.download('punkt')\n",
        "nltk.download('wordnet')\n",
        "nltk.download('omw-1.4')"
      ]
    },
    {
      "cell_type": "markdown",
      "source": [
        "O próximo passo é processar as sinopses e o títulos, removendo as stopwords e normalizando o conteúdo."
      ],
      "metadata": {
        "id": "cYN-Wqshi1tk"
      }
    },
    {
      "cell_type": "code",
      "execution_count": null,
      "metadata": {
        "id": "RQrQAJGq7wGR"
      },
      "outputs": [],
      "source": [
        "# funcao para tratar cada palavra e remover stopwords\n",
        "def processamento(tokens):\n",
        "    \n",
        "    token_processado = []\n",
        "    for token in tokens:\n",
        "        token = token.lower()\n",
        "        token = lemmatizer.lemmatize(token)\n",
        "        \n",
        "        if token not in stop_words:\n",
        "            token = stemmer.stem(token)\n",
        "            token_processado.append(token)\n",
        "        \n",
        "    return token_processado\n",
        "\n",
        "documentos_summ = []\n",
        "for summarie in summaries:\n",
        "    \n",
        "    # expressao regular para remover pontuacoes do texto\n",
        "    summarie = re.sub(r'[^\\w\\s]','', summarie)\n",
        "    tokens = processamento(word_tokenize(summarie))\n",
        "    \n",
        "    documentos_summ.append(' '.join(tokens))\n",
        "\n",
        "documentos_title = []\n",
        "\n",
        "for title in titles:\n",
        "    \n",
        "    # expressao regular para remover pontuacoes do texto\n",
        "    sinopse = re.sub(r'[^\\w\\s]','', title)\n",
        "    tokens = processamento(word_tokenize(title))\n",
        "    \n",
        "    documentos_title.append(' '.join(tokens))\n"
      ]
    },
    {
      "cell_type": "markdown",
      "source": [
        "##Questão 2) \n",
        "**Faça uma análise visual do dataset após o pré-processamento. Explore gráficos e/ou tabelas para mostrar a distribuição dos rótulos.** (1,0 ponto)"
      ],
      "metadata": {
        "id": "8uiW6IAcjf-Y"
      }
    },
    {
      "cell_type": "code",
      "source": [
        "plt.figure(figsize=(20,5))\n",
        "arxiv_data.terms.value_counts()[arxiv_data.terms.value_counts()>50].plot.bar(color=[\"lightcoral\",\"indianred\",\"brown\"])\n",
        "plt.title('Rótulos(TERMS) mais comuns'.upper(), fontsize=12)"
      ],
      "metadata": {
        "colab": {
          "base_uri": "https://localhost:8080/",
          "height": 521
        },
        "id": "F1JU46us51j2",
        "outputId": "9ee2f3ac-af80-4369-f831-f57ad04ddc01"
      },
      "execution_count": null,
      "outputs": [
        {
          "output_type": "execute_result",
          "data": {
            "text/plain": [
              "Text(0.5, 1.0, 'RÓTULOS(TERMS) MAIS COMUNS')"
            ]
          },
          "metadata": {},
          "execution_count": 42
        },
        {
          "output_type": "display_data",
          "data": {
            "text/plain": [
              "<Figure size 1440x360 with 1 Axes>"
            ],
            "image/png": "[encoded data removed]"
          },
          "metadata": {
            "needs_background": "light"
          }
        }
      ]
    },
    {
      "cell_type": "markdown",
      "source": [
        "Aqui podemos ver quantas vezes cada rótulo se repete."
      ],
      "metadata": {
        "id": "2raMEUSPtOOw"
      }
    },
    {
      "cell_type": "markdown",
      "source": [
        "##Questão 3) \n",
        "**Escolha uma metodologia para extração de características considerando somente o título dos artigos científicos.** (1,0 ponto)"
      ],
      "metadata": {
        "id": "9CEjJBAywdMg"
      }
    },
    {
      "cell_type": "markdown",
      "source": [
        "Utilizaremos o TF-IDF porque é melhor que o Count Vectorizers, ele não tem seu foco somente na frequencia das palavras como o Count, ele também leva em consideração a importancia das palavras. Podendo remover as palavras com menos importância, ficando o um dataset mais leve mais rádido de ser processado."
      ],
      "metadata": {
        "id": "_e4h2y4mtWc2"
      }
    },
    {
      "cell_type": "code",
      "source": [
        "#vecto = vectorizer\n",
        "#X_train_counts = vectorizer.fit_transform(documentos_summ)\n",
        "#Tvecto = Tvectorizer\n",
        "X_train_Tvc = Tvectorizer.fit_transform(documentos_summ)\n",
        "#X_new = SelectKBest(chi2, k=40000).fit_transform(X_train_counts, y)\n",
        "X_train_tfidf = tfidf_transformer.fit_transform(X_train_Tvc)\n",
        "\n",
        "\n",
        "X_title = X_train_tfidf"
      ],
      "metadata": {
        "id": "0oz-iH8QwrxP"
      },
      "execution_count": null,
      "outputs": []
    },
    {
      "cell_type": "markdown",
      "source": [
        "##Questão 4)\n",
        "**Implemente o processo de classificação multi rótulos. Implemente 3 classificadores diferentes e compare suas performances. Escolha duas métricas distintas de sua escolha. Justifique suas escolhas e interprete os resultados** (2,0 pontos)"
      ],
      "metadata": {
        "id": "pRC5d9_Cw3-j"
      }
    },
    {
      "cell_type": "markdown",
      "source": [
        "Vamos utilizar 4 classificadores, SGDClassifier, BernoulliNB e RidgeClassifier. Para medirmos os resultados dos modelos acima usaremos 5 métricas, \"f1_score\",\"precision_score\",\"recall_score\",\"accuracy_score\" e \"log_loss\". Cada uma delas tem suas próprias caracteristicas e revelam visões diferentes dos resultados, sempre é importante olhar mais que uma métrica para ter uma noção melhor dos resultados obtidos."
      ],
      "metadata": {
        "id": "gH5JGnacuxLS"
      }
    },
    {
      "cell_type": "code",
      "source": [
        "metricas = pd.DataFrame({\"Métricas_title\": [\"f1_score\",\"precision_score\",\"recall_score\",\"accuracy_score\",\"log_loss\"]})"
      ],
      "metadata": {
        "id": "DnI2RRCu9qm6"
      },
      "execution_count": null,
      "outputs": []
    },
    {
      "cell_type": "code",
      "execution_count": null,
      "metadata": {
        "colab": {
          "base_uri": "https://localhost:8080/",
          "height": 206
        },
        "id": "s-URvvL--PqE",
        "outputId": "61855da6-f191-4011-9794-161d3489850e"
      },
      "outputs": [
        {
          "output_type": "execute_result",
          "data": {
            "text/plain": [
              "    Métricas_title  SGDClassifier1\n",
              "0         f1_score        0.469238\n",
              "1  precision_score        0.721201\n",
              "2     recall_score        0.347747\n",
              "3   accuracy_score        0.340266\n",
              "4         log_loss       23.961590"
            ],
            "text/html": [
              "\n",
              "  <div id=\"df-bebbbfda-ea9f-495a-9c34-c44c6936f201\">\n",
              "    <div class=\"colab-df-container\">\n",
              "      <div>\n",
              "<style scoped>\n",
              "    .dataframe tbody tr th:only-of-type {\n",
              "        vertical-align: middle;\n",
              "    }\n",
              "\n",
              "    .dataframe tbody tr th {\n",
              "        vertical-align: top;\n",
              "    }\n",
              "\n",
              "    .dataframe thead th {\n",
              "        text-align: right;\n",
              "    }\n",
              "</style>\n",
              "<table border=\"1\" class=\"dataframe\">\n",
              "  <thead>\n",
              "    <tr style=\"text-align: right;\">\n",
              "      <th></th>\n",
              "      <th>Métricas_title</th>\n",
              "      <th>SGDClassifier1</th>\n",
              "    </tr>\n",
              "  </thead>\n",
              "  <tbody>\n",
              "    <tr>\n",
              "      <th>0</th>\n",
              "      <td>f1_score</td>\n",
              "      <td>0.469238</td>\n",
              "    </tr>\n",
              "    <tr>\n",
              "      <th>1</th>\n",
              "      <td>precision_score</td>\n",
              "      <td>0.721201</td>\n",
              "    </tr>\n",
              "    <tr>\n",
              "      <th>2</th>\n",
              "      <td>recall_score</td>\n",
              "      <td>0.347747</td>\n",
              "    </tr>\n",
              "    <tr>\n",
              "      <th>3</th>\n",
              "      <td>accuracy_score</td>\n",
              "      <td>0.340266</td>\n",
              "    </tr>\n",
              "    <tr>\n",
              "      <th>4</th>\n",
              "      <td>log_loss</td>\n",
              "      <td>23.961590</td>\n",
              "    </tr>\n",
              "  </tbody>\n",
              "</table>\n",
              "</div>\n",
              "      <button class=\"colab-df-convert\" onclick=\"convertToInteractive('df-bebbbfda-ea9f-495a-9c34-c44c6936f201')\"\n",
              "              title=\"Convert this dataframe to an interactive table.\"\n",
              "              style=\"display:none;\">\n",
              "        \n",
              "  <svg xmlns=\"http://www.w3.org/2000/svg\" height=\"24px\"viewBox=\"0 0 24 24\"\n",
              "       width=\"24px\">\n",
              "    <path d=\"M0 0h24v24H0V0z\" fill=\"none\"/>\n",
              "    <path d=\"M18.56 5.44l.94 2.06.94-2.06 2.06-.94-2.06-.94-.94-2.06-.94 2.06-2.06.94zm-11 1L8.5 8.5l.94-2.06 2.06-.94-2.06-.94L8.5 2.5l-.94 2.06-2.06.94zm10 10l.94 2.06.94-2.06 2.06-.94-2.06-.94-.94-2.06-.94 2.06-2.06.94z\"/><path d=\"M17.41 7.96l-1.37-1.37c-.4-.4-.92-.59-1.43-.59-.52 0-1.04.2-1.43.59L10.3 9.45l-7.72 7.72c-.78.78-.78 2.05 0 2.83L4 21.41c.39.39.9.59 1.41.59.51 0 1.02-.2 1.41-.59l7.78-7.78 2.81-2.81c.8-.78.8-2.07 0-2.86zM5.41 20L4 18.59l7.72-7.72 1.47 1.35L5.41 20z\"/>\n",
              "  </svg>\n",
              "      </button>\n",
              "      \n",
              "  <style>\n",
              "    .colab-df-container {\n",
              "      display:flex;\n",
              "      flex-wrap:wrap;\n",
              "      gap: 12px;\n",
              "    }\n",
              "\n",
              "    .colab-df-convert {\n",
              "      background-color: #E8F0FE;\n",
              "      border: none;\n",
              "      border-radius: 50%;\n",
              "      cursor: pointer;\n",
              "      display: none;\n",
              "      fill: #1967D2;\n",
              "      height: 32px;\n",
              "      padding: 0 0 0 0;\n",
              "      width: 32px;\n",
              "    }\n",
              "\n",
              "    .colab-df-convert:hover {\n",
              "      background-color: #E2EBFA;\n",
              "      box-shadow: 0px 1px 2px rgba(60, 64, 67, 0.3), 0px 1px 3px 1px rgba(60, 64, 67, 0.15);\n",
              "      fill: #174EA6;\n",
              "    }\n",
              "\n",
              "    [theme=dark] .colab-df-convert {\n",
              "      background-color: #3B4455;\n",
              "      fill: #D2E3FC;\n",
              "    }\n",
              "\n",
              "    [theme=dark] .colab-df-convert:hover {\n",
              "      background-color: #434B5C;\n",
              "      box-shadow: 0px 1px 3px 1px rgba(0, 0, 0, 0.15);\n",
              "      filter: drop-shadow(0px 1px 2px rgba(0, 0, 0, 0.3));\n",
              "      fill: #FFFFFF;\n",
              "    }\n",
              "  </style>\n",
              "\n",
              "      <script>\n",
              "        const buttonEl =\n",
              "          document.querySelector('#df-bebbbfda-ea9f-495a-9c34-c44c6936f201 button.colab-df-convert');\n",
              "        buttonEl.style.display =\n",
              "          google.colab.kernel.accessAllowed ? 'block' : 'none';\n",
              "\n",
              "        async function convertToInteractive(key) {\n",
              "          const element = document.querySelector('#df-bebbbfda-ea9f-495a-9c34-c44c6936f201');\n",
              "          const dataTable =\n",
              "            await google.colab.kernel.invokeFunction('convertToInteractive',\n",
              "                                                     [key], {});\n",
              "          if (!dataTable) return;\n",
              "\n",
              "          const docLinkHtml = 'Like what you see? Visit the ' +\n",
              "            '<a target=\"_blank\" href=https://colab.research.google.com/notebooks/data_table.ipynb>data table notebook</a>'\n",
              "            + ' to learn more about interactive tables.';\n",
              "          element.innerHTML = '';\n",
              "          dataTable['output_type'] = 'display_data';\n",
              "          await google.colab.output.renderOutput(dataTable, element);\n",
              "          const docLink = document.createElement('div');\n",
              "          docLink.innerHTML = docLinkHtml;\n",
              "          element.appendChild(docLink);\n",
              "        }\n",
              "      </script>\n",
              "    </div>\n",
              "  </div>\n",
              "  "
            ]
          },
          "metadata": {},
          "execution_count": 45
        }
      ],
      "source": [
        "X_train, X_test,y_train, y_test = train_test_split(X_title, y,test_size=0.20, stratify = y, random_state=10)\n",
        "\n",
        "\n",
        "svm = SGDClassifier() \n",
        "clf = OneVsRestClassifier(svm)\n",
        "clf.fit(X_train,y_train)\n",
        "y_pred = clf.predict(X_test)\n",
        "\n",
        "m = \"SGDClassifier1\"\n",
        "metricas[m] = [f1_score(y_test, y_pred, average=\"micro\"),\n",
        "                    precision_score(y_test, y_pred, average='micro'),\n",
        "                     recall_score(y_test, y_pred, average='micro'),\n",
        "                     accuracy_score(y_test, y_pred),\n",
        "                      log_loss(y_test, y_pred)]\n",
        "metricas"
      ]
    },
    {
      "cell_type": "code",
      "source": [
        "BNB = BernoulliNB() \n",
        "clf = OneVsRestClassifier(BNB)\n",
        "clf.fit(X_train,y_train)\n",
        "y_pred = clf.predict(X_test)\n",
        "\n",
        "m = \"BernoulliNB1\"\n",
        "metricas[m] = [f1_score(y_test, y_pred, average=\"micro\"),\n",
        "                    precision_score(y_test, y_pred, average='micro'),\n",
        "                     recall_score(y_test, y_pred, average='micro'),\n",
        "                     accuracy_score(y_test, y_pred),\n",
        "                      log_loss(y_test, y_pred)]\n",
        "metricas"
      ],
      "metadata": {
        "colab": {
          "base_uri": "https://localhost:8080/",
          "height": 206
        },
        "id": "X-jmtscUzTIm",
        "outputId": "242913e4-3e33-4f1d-8380-4854d61dfdf2"
      },
      "execution_count": null,
      "outputs": [
        {
          "output_type": "execute_result",
          "data": {
            "text/plain": [
              "    Métricas_title  SGDClassifier1  BernoulliNB1\n",
              "0         f1_score        0.469238      0.516146\n",
              "1  precision_score        0.721201      0.616457\n",
              "2     recall_score        0.347747      0.443912\n",
              "3   accuracy_score        0.340266      0.342924\n",
              "4         log_loss       23.961590     23.514128"
            ],
            "text/html": [
              "\n",
              "  <div id=\"df-5b62d13b-886a-4e6f-bd52-1ab4816deff4\">\n",
              "    <div class=\"colab-df-container\">\n",
              "      <div>\n",
              "<style scoped>\n",
              "    .dataframe tbody tr th:only-of-type {\n",
              "        vertical-align: middle;\n",
              "    }\n",
              "\n",
              "    .dataframe tbody tr th {\n",
              "        vertical-align: top;\n",
              "    }\n",
              "\n",
              "    .dataframe thead th {\n",
              "        text-align: right;\n",
              "    }\n",
              "</style>\n",
              "<table border=\"1\" class=\"dataframe\">\n",
              "  <thead>\n",
              "    <tr style=\"text-align: right;\">\n",
              "      <th></th>\n",
              "      <th>Métricas_title</th>\n",
              "      <th>SGDClassifier1</th>\n",
              "      <th>BernoulliNB1</th>\n",
              "    </tr>\n",
              "  </thead>\n",
              "  <tbody>\n",
              "    <tr>\n",
              "      <th>0</th>\n",
              "      <td>f1_score</td>\n",
              "      <td>0.469238</td>\n",
              "      <td>0.516146</td>\n",
              "    </tr>\n",
              "    <tr>\n",
              "      <th>1</th>\n",
              "      <td>precision_score</td>\n",
              "      <td>0.721201</td>\n",
              "      <td>0.616457</td>\n",
              "    </tr>\n",
              "    <tr>\n",
              "      <th>2</th>\n",
              "      <td>recall_score</td>\n",
              "      <td>0.347747</td>\n",
              "      <td>0.443912</td>\n",
              "    </tr>\n",
              "    <tr>\n",
              "      <th>3</th>\n",
              "      <td>accuracy_score</td>\n",
              "      <td>0.340266</td>\n",
              "      <td>0.342924</td>\n",
              "    </tr>\n",
              "    <tr>\n",
              "      <th>4</th>\n",
              "      <td>log_loss</td>\n",
              "      <td>23.961590</td>\n",
              "      <td>23.514128</td>\n",
              "    </tr>\n",
              "  </tbody>\n",
              "</table>\n",
              "</div>\n",
              "      <button class=\"colab-df-convert\" onclick=\"convertToInteractive('df-5b62d13b-886a-4e6f-bd52-1ab4816deff4')\"\n",
              "              title=\"Convert this dataframe to an interactive table.\"\n",
              "              style=\"display:none;\">\n",
              "        \n",
              "  <svg xmlns=\"http://www.w3.org/2000/svg\" height=\"24px\"viewBox=\"0 0 24 24\"\n",
              "       width=\"24px\">\n",
              "    <path d=\"M0 0h24v24H0V0z\" fill=\"none\"/>\n",
              "    <path d=\"M18.56 5.44l.94 2.06.94-2.06 2.06-.94-2.06-.94-.94-2.06-.94 2.06-2.06.94zm-11 1L8.5 8.5l.94-2.06 2.06-.94-2.06-.94L8.5 2.5l-.94 2.06-2.06.94zm10 10l.94 2.06.94-2.06 2.06-.94-2.06-.94-.94-2.06-.94 2.06-2.06.94z\"/><path d=\"M17.41 7.96l-1.37-1.37c-.4-.4-.92-.59-1.43-.59-.52 0-1.04.2-1.43.59L10.3 9.45l-7.72 7.72c-.78.78-.78 2.05 0 2.83L4 21.41c.39.39.9.59 1.41.59.51 0 1.02-.2 1.41-.59l7.78-7.78 2.81-2.81c.8-.78.8-2.07 0-2.86zM5.41 20L4 18.59l7.72-7.72 1.47 1.35L5.41 20z\"/>\n",
              "  </svg>\n",
              "      </button>\n",
              "      \n",
              "  <style>\n",
              "    .colab-df-container {\n",
              "      display:flex;\n",
              "      flex-wrap:wrap;\n",
              "      gap: 12px;\n",
              "    }\n",
              "\n",
              "    .colab-df-convert {\n",
              "      background-color: #E8F0FE;\n",
              "      border: none;\n",
              "      border-radius: 50%;\n",
              "      cursor: pointer;\n",
              "      display: none;\n",
              "      fill: #1967D2;\n",
              "      height: 32px;\n",
              "      padding: 0 0 0 0;\n",
              "      width: 32px;\n",
              "    }\n",
              "\n",
              "    .colab-df-convert:hover {\n",
              "      background-color: #E2EBFA;\n",
              "      box-shadow: 0px 1px 2px rgba(60, 64, 67, 0.3), 0px 1px 3px 1px rgba(60, 64, 67, 0.15);\n",
              "      fill: #174EA6;\n",
              "    }\n",
              "\n",
              "    [theme=dark] .colab-df-convert {\n",
              "      background-color: #3B4455;\n",
              "      fill: #D2E3FC;\n",
              "    }\n",
              "\n",
              "    [theme=dark] .colab-df-convert:hover {\n",
              "      background-color: #434B5C;\n",
              "      box-shadow: 0px 1px 3px 1px rgba(0, 0, 0, 0.15);\n",
              "      filter: drop-shadow(0px 1px 2px rgba(0, 0, 0, 0.3));\n",
              "      fill: #FFFFFF;\n",
              "    }\n",
              "  </style>\n",
              "\n",
              "      <script>\n",
              "        const buttonEl =\n",
              "          document.querySelector('#df-5b62d13b-886a-4e6f-bd52-1ab4816deff4 button.colab-df-convert');\n",
              "        buttonEl.style.display =\n",
              "          google.colab.kernel.accessAllowed ? 'block' : 'none';\n",
              "\n",
              "        async function convertToInteractive(key) {\n",
              "          const element = document.querySelector('#df-5b62d13b-886a-4e6f-bd52-1ab4816deff4');\n",
              "          const dataTable =\n",
              "            await google.colab.kernel.invokeFunction('convertToInteractive',\n",
              "                                                     [key], {});\n",
              "          if (!dataTable) return;\n",
              "\n",
              "          const docLinkHtml = 'Like what you see? Visit the ' +\n",
              "            '<a target=\"_blank\" href=https://colab.research.google.com/notebooks/data_table.ipynb>data table notebook</a>'\n",
              "            + ' to learn more about interactive tables.';\n",
              "          element.innerHTML = '';\n",
              "          dataTable['output_type'] = 'display_data';\n",
              "          await google.colab.output.renderOutput(dataTable, element);\n",
              "          const docLink = document.createElement('div');\n",
              "          docLink.innerHTML = docLinkHtml;\n",
              "          element.appendChild(docLink);\n",
              "        }\n",
              "      </script>\n",
              "    </div>\n",
              "  </div>\n",
              "  "
            ]
          },
          "metadata": {},
          "execution_count": 46
        }
      ]
    },
    {
      "cell_type": "code",
      "source": [
        "Ridge = RidgeClassifier() \n",
        "clf = OneVsRestClassifier(Ridge)\n",
        "clf.fit(X_train,y_train)\n",
        "y_pred = clf.predict(X_test)\n",
        "\n",
        "m = \"Ridge1\"\n",
        "metricas[m] = [f1_score(y_test, y_pred, average=\"micro\"),\n",
        "                    precision_score(y_test, y_pred, average='micro'),\n",
        "                     recall_score(y_test, y_pred, average='micro'),\n",
        "                     accuracy_score(y_test, y_pred),\n",
        "                      log_loss(y_test, y_pred)]\n",
        "metricas"
      ],
      "metadata": {
        "colab": {
          "base_uri": "https://localhost:8080/",
          "height": 206
        },
        "id": "TW7WH1A7cyy7",
        "outputId": "13de9178-df94-4a0e-da44-5824a7337ffa"
      },
      "execution_count": null,
      "outputs": [
        {
          "output_type": "execute_result",
          "data": {
            "text/plain": [
              "    Métricas_title  SGDClassifier1  BernoulliNB1     Ridge1\n",
              "0         f1_score        0.469238      0.516146   0.470428\n",
              "1  precision_score        0.721201      0.616457   0.678079\n",
              "2     recall_score        0.347747      0.443912   0.360141\n",
              "3   accuracy_score        0.340266      0.342924   0.334793\n",
              "4         log_loss       23.961590     23.514128  23.208179"
            ],
            "text/html": [
              "\n",
              "  <div id=\"df-a5fd8948-797c-492c-b899-1e3777417656\">\n",
              "    <div class=\"colab-df-container\">\n",
              "      <div>\n",
              "<style scoped>\n",
              "    .dataframe tbody tr th:only-of-type {\n",
              "        vertical-align: middle;\n",
              "    }\n",
              "\n",
              "    .dataframe tbody tr th {\n",
              "        vertical-align: top;\n",
              "    }\n",
              "\n",
              "    .dataframe thead th {\n",
              "        text-align: right;\n",
              "    }\n",
              "</style>\n",
              "<table border=\"1\" class=\"dataframe\">\n",
              "  <thead>\n",
              "    <tr style=\"text-align: right;\">\n",
              "      <th></th>\n",
              "      <th>Métricas_title</th>\n",
              "      <th>SGDClassifier1</th>\n",
              "      <th>BernoulliNB1</th>\n",
              "      <th>Ridge1</th>\n",
              "    </tr>\n",
              "  </thead>\n",
              "  <tbody>\n",
              "    <tr>\n",
              "      <th>0</th>\n",
              "      <td>f1_score</td>\n",
              "      <td>0.469238</td>\n",
              "      <td>0.516146</td>\n",
              "      <td>0.470428</td>\n",
              "    </tr>\n",
              "    <tr>\n",
              "      <th>1</th>\n",
              "      <td>precision_score</td>\n",
              "      <td>0.721201</td>\n",
              "      <td>0.616457</td>\n",
              "      <td>0.678079</td>\n",
              "    </tr>\n",
              "    <tr>\n",
              "      <th>2</th>\n",
              "      <td>recall_score</td>\n",
              "      <td>0.347747</td>\n",
              "      <td>0.443912</td>\n",
              "      <td>0.360141</td>\n",
              "    </tr>\n",
              "    <tr>\n",
              "      <th>3</th>\n",
              "      <td>accuracy_score</td>\n",
              "      <td>0.340266</td>\n",
              "      <td>0.342924</td>\n",
              "      <td>0.334793</td>\n",
              "    </tr>\n",
              "    <tr>\n",
              "      <th>4</th>\n",
              "      <td>log_loss</td>\n",
              "      <td>23.961590</td>\n",
              "      <td>23.514128</td>\n",
              "      <td>23.208179</td>\n",
              "    </tr>\n",
              "  </tbody>\n",
              "</table>\n",
              "</div>\n",
              "      <button class=\"colab-df-convert\" onclick=\"convertToInteractive('df-a5fd8948-797c-492c-b899-1e3777417656')\"\n",
              "              title=\"Convert this dataframe to an interactive table.\"\n",
              "              style=\"display:none;\">\n",
              "        \n",
              "  <svg xmlns=\"http://www.w3.org/2000/svg\" height=\"24px\"viewBox=\"0 0 24 24\"\n",
              "       width=\"24px\">\n",
              "    <path d=\"M0 0h24v24H0V0z\" fill=\"none\"/>\n",
              "    <path d=\"M18.56 5.44l.94 2.06.94-2.06 2.06-.94-2.06-.94-.94-2.06-.94 2.06-2.06.94zm-11 1L8.5 8.5l.94-2.06 2.06-.94-2.06-.94L8.5 2.5l-.94 2.06-2.06.94zm10 10l.94 2.06.94-2.06 2.06-.94-2.06-.94-.94-2.06-.94 2.06-2.06.94z\"/><path d=\"M17.41 7.96l-1.37-1.37c-.4-.4-.92-.59-1.43-.59-.52 0-1.04.2-1.43.59L10.3 9.45l-7.72 7.72c-.78.78-.78 2.05 0 2.83L4 21.41c.39.39.9.59 1.41.59.51 0 1.02-.2 1.41-.59l7.78-7.78 2.81-2.81c.8-.78.8-2.07 0-2.86zM5.41 20L4 18.59l7.72-7.72 1.47 1.35L5.41 20z\"/>\n",
              "  </svg>\n",
              "      </button>\n",
              "      \n",
              "  <style>\n",
              "    .colab-df-container {\n",
              "      display:flex;\n",
              "      flex-wrap:wrap;\n",
              "      gap: 12px;\n",
              "    }\n",
              "\n",
              "    .colab-df-convert {\n",
              "      background-color: #E8F0FE;\n",
              "      border: none;\n",
              "      border-radius: 50%;\n",
              "      cursor: pointer;\n",
              "      display: none;\n",
              "      fill: #1967D2;\n",
              "      height: 32px;\n",
              "      padding: 0 0 0 0;\n",
              "      width: 32px;\n",
              "    }\n",
              "\n",
              "    .colab-df-convert:hover {\n",
              "      background-color: #E2EBFA;\n",
              "      box-shadow: 0px 1px 2px rgba(60, 64, 67, 0.3), 0px 1px 3px 1px rgba(60, 64, 67, 0.15);\n",
              "      fill: #174EA6;\n",
              "    }\n",
              "\n",
              "    [theme=dark] .colab-df-convert {\n",
              "      background-color: #3B4455;\n",
              "      fill: #D2E3FC;\n",
              "    }\n",
              "\n",
              "    [theme=dark] .colab-df-convert:hover {\n",
              "      background-color: #434B5C;\n",
              "      box-shadow: 0px 1px 3px 1px rgba(0, 0, 0, 0.15);\n",
              "      filter: drop-shadow(0px 1px 2px rgba(0, 0, 0, 0.3));\n",
              "      fill: #FFFFFF;\n",
              "    }\n",
              "  </style>\n",
              "\n",
              "      <script>\n",
              "        const buttonEl =\n",
              "          document.querySelector('#df-a5fd8948-797c-492c-b899-1e3777417656 button.colab-df-convert');\n",
              "        buttonEl.style.display =\n",
              "          google.colab.kernel.accessAllowed ? 'block' : 'none';\n",
              "\n",
              "        async function convertToInteractive(key) {\n",
              "          const element = document.querySelector('#df-a5fd8948-797c-492c-b899-1e3777417656');\n",
              "          const dataTable =\n",
              "            await google.colab.kernel.invokeFunction('convertToInteractive',\n",
              "                                                     [key], {});\n",
              "          if (!dataTable) return;\n",
              "\n",
              "          const docLinkHtml = 'Like what you see? Visit the ' +\n",
              "            '<a target=\"_blank\" href=https://colab.research.google.com/notebooks/data_table.ipynb>data table notebook</a>'\n",
              "            + ' to learn more about interactive tables.';\n",
              "          element.innerHTML = '';\n",
              "          dataTable['output_type'] = 'display_data';\n",
              "          await google.colab.output.renderOutput(dataTable, element);\n",
              "          const docLink = document.createElement('div');\n",
              "          docLink.innerHTML = docLinkHtml;\n",
              "          element.appendChild(docLink);\n",
              "        }\n",
              "      </script>\n",
              "    </div>\n",
              "  </div>\n",
              "  "
            ]
          },
          "metadata": {},
          "execution_count": 47
        }
      ]
    },
    {
      "cell_type": "markdown",
      "source": [
        "##Questão 5) \n",
        "**Replique os mesmos experimentos de extração de características e classificação considerando somente a coluna abstract.** (2,0 pontos)"
      ],
      "metadata": {
        "id": "YzzDzZSV7Hnr"
      }
    },
    {
      "cell_type": "code",
      "source": [
        "X_train_counts = vectorizer.fit_transform(documentos_summ)\n",
        "X_train_Tvc = Tvectorizer.fit_transform(documentos_summ)\n",
        "X_new = SelectKBest(chi2, k=40000).fit_transform(X_train_counts, y)\n",
        "X_train_tfidf = tfidf_transformer.fit_transform(X_new)\n",
        "\n",
        "X_summ = X_train_tfidf"
      ],
      "metadata": {
        "id": "5saVuxAd7UeF"
      },
      "execution_count": null,
      "outputs": []
    },
    {
      "cell_type": "code",
      "source": [
        "m = \"Métricas_Summary\"\n",
        "metricas[m] = [\"f1_score\",\"precision_score\",\"recall_score\",\"accuracy_score\",\"log_loss\"]\n",
        "metricas"
      ],
      "metadata": {
        "colab": {
          "base_uri": "https://localhost:8080/",
          "height": 206
        },
        "id": "4cqcxCgr_U2s",
        "outputId": "31e71a36-520c-479e-e13b-b9201de1a851"
      },
      "execution_count": null,
      "outputs": [
        {
          "output_type": "execute_result",
          "data": {
            "text/plain": [
              "    Métricas_title  SGDClassifier1  BernoulliNB1     Ridge1 Métricas_Summary\n",
              "0         f1_score        0.469238      0.516146   0.470428         f1_score\n",
              "1  precision_score        0.721201      0.616457   0.678079  precision_score\n",
              "2     recall_score        0.347747      0.443912   0.360141     recall_score\n",
              "3   accuracy_score        0.340266      0.342924   0.334793   accuracy_score\n",
              "4         log_loss       23.961590     23.514128  23.208179         log_loss"
            ],
            "text/html": [
              "\n",
              "  <div id=\"df-0ba24e37-4e5e-42a6-b222-2493041fcd14\">\n",
              "    <div class=\"colab-df-container\">\n",
              "      <div>\n",
              "<style scoped>\n",
              "    .dataframe tbody tr th:only-of-type {\n",
              "        vertical-align: middle;\n",
              "    }\n",
              "\n",
              "    .dataframe tbody tr th {\n",
              "        vertical-align: top;\n",
              "    }\n",
              "\n",
              "    .dataframe thead th {\n",
              "        text-align: right;\n",
              "    }\n",
              "</style>\n",
              "<table border=\"1\" class=\"dataframe\">\n",
              "  <thead>\n",
              "    <tr style=\"text-align: right;\">\n",
              "      <th></th>\n",
              "      <th>Métricas_title</th>\n",
              "      <th>SGDClassifier1</th>\n",
              "      <th>BernoulliNB1</th>\n",
              "      <th>Ridge1</th>\n",
              "      <th>Métricas_Summary</th>\n",
              "    </tr>\n",
              "  </thead>\n",
              "  <tbody>\n",
              "    <tr>\n",
              "      <th>0</th>\n",
              "      <td>f1_score</td>\n",
              "      <td>0.469238</td>\n",
              "      <td>0.516146</td>\n",
              "      <td>0.470428</td>\n",
              "      <td>f1_score</td>\n",
              "    </tr>\n",
              "    <tr>\n",
              "      <th>1</th>\n",
              "      <td>precision_score</td>\n",
              "      <td>0.721201</td>\n",
              "      <td>0.616457</td>\n",
              "      <td>0.678079</td>\n",
              "      <td>precision_score</td>\n",
              "    </tr>\n",
              "    <tr>\n",
              "      <th>2</th>\n",
              "      <td>recall_score</td>\n",
              "      <td>0.347747</td>\n",
              "      <td>0.443912</td>\n",
              "      <td>0.360141</td>\n",
              "      <td>recall_score</td>\n",
              "    </tr>\n",
              "    <tr>\n",
              "      <th>3</th>\n",
              "      <td>accuracy_score</td>\n",
              "      <td>0.340266</td>\n",
              "      <td>0.342924</td>\n",
              "      <td>0.334793</td>\n",
              "      <td>accuracy_score</td>\n",
              "    </tr>\n",
              "    <tr>\n",
              "      <th>4</th>\n",
              "      <td>log_loss</td>\n",
              "      <td>23.961590</td>\n",
              "      <td>23.514128</td>\n",
              "      <td>23.208179</td>\n",
              "      <td>log_loss</td>\n",
              "    </tr>\n",
              "  </tbody>\n",
              "</table>\n",
              "</div>\n",
              "      <button class=\"colab-df-convert\" onclick=\"convertToInteractive('df-0ba24e37-4e5e-42a6-b222-2493041fcd14')\"\n",
              "              title=\"Convert this dataframe to an interactive table.\"\n",
              "              style=\"display:none;\">\n",
              "        \n",
              "  <svg xmlns=\"http://www.w3.org/2000/svg\" height=\"24px\"viewBox=\"0 0 24 24\"\n",
              "       width=\"24px\">\n",
              "    <path d=\"M0 0h24v24H0V0z\" fill=\"none\"/>\n",
              "    <path d=\"M18.56 5.44l.94 2.06.94-2.06 2.06-.94-2.06-.94-.94-2.06-.94 2.06-2.06.94zm-11 1L8.5 8.5l.94-2.06 2.06-.94-2.06-.94L8.5 2.5l-.94 2.06-2.06.94zm10 10l.94 2.06.94-2.06 2.06-.94-2.06-.94-.94-2.06-.94 2.06-2.06.94z\"/><path d=\"M17.41 7.96l-1.37-1.37c-.4-.4-.92-.59-1.43-.59-.52 0-1.04.2-1.43.59L10.3 9.45l-7.72 7.72c-.78.78-.78 2.05 0 2.83L4 21.41c.39.39.9.59 1.41.59.51 0 1.02-.2 1.41-.59l7.78-7.78 2.81-2.81c.8-.78.8-2.07 0-2.86zM5.41 20L4 18.59l7.72-7.72 1.47 1.35L5.41 20z\"/>\n",
              "  </svg>\n",
              "      </button>\n",
              "      \n",
              "  <style>\n",
              "    .colab-df-container {\n",
              "      display:flex;\n",
              "      flex-wrap:wrap;\n",
              "      gap: 12px;\n",
              "    }\n",
              "\n",
              "    .colab-df-convert {\n",
              "      background-color: #E8F0FE;\n",
              "      border: none;\n",
              "      border-radius: 50%;\n",
              "      cursor: pointer;\n",
              "      display: none;\n",
              "      fill: #1967D2;\n",
              "      height: 32px;\n",
              "      padding: 0 0 0 0;\n",
              "      width: 32px;\n",
              "    }\n",
              "\n",
              "    .colab-df-convert:hover {\n",
              "      background-color: #E2EBFA;\n",
              "      box-shadow: 0px 1px 2px rgba(60, 64, 67, 0.3), 0px 1px 3px 1px rgba(60, 64, 67, 0.15);\n",
              "      fill: #174EA6;\n",
              "    }\n",
              "\n",
              "    [theme=dark] .colab-df-convert {\n",
              "      background-color: #3B4455;\n",
              "      fill: #D2E3FC;\n",
              "    }\n",
              "\n",
              "    [theme=dark] .colab-df-convert:hover {\n",
              "      background-color: #434B5C;\n",
              "      box-shadow: 0px 1px 3px 1px rgba(0, 0, 0, 0.15);\n",
              "      filter: drop-shadow(0px 1px 2px rgba(0, 0, 0, 0.3));\n",
              "      fill: #FFFFFF;\n",
              "    }\n",
              "  </style>\n",
              "\n",
              "      <script>\n",
              "        const buttonEl =\n",
              "          document.querySelector('#df-0ba24e37-4e5e-42a6-b222-2493041fcd14 button.colab-df-convert');\n",
              "        buttonEl.style.display =\n",
              "          google.colab.kernel.accessAllowed ? 'block' : 'none';\n",
              "\n",
              "        async function convertToInteractive(key) {\n",
              "          const element = document.querySelector('#df-0ba24e37-4e5e-42a6-b222-2493041fcd14');\n",
              "          const dataTable =\n",
              "            await google.colab.kernel.invokeFunction('convertToInteractive',\n",
              "                                                     [key], {});\n",
              "          if (!dataTable) return;\n",
              "\n",
              "          const docLinkHtml = 'Like what you see? Visit the ' +\n",
              "            '<a target=\"_blank\" href=https://colab.research.google.com/notebooks/data_table.ipynb>data table notebook</a>'\n",
              "            + ' to learn more about interactive tables.';\n",
              "          element.innerHTML = '';\n",
              "          dataTable['output_type'] = 'display_data';\n",
              "          await google.colab.output.renderOutput(dataTable, element);\n",
              "          const docLink = document.createElement('div');\n",
              "          docLink.innerHTML = docLinkHtml;\n",
              "          element.appendChild(docLink);\n",
              "        }\n",
              "      </script>\n",
              "    </div>\n",
              "  </div>\n",
              "  "
            ]
          },
          "metadata": {},
          "execution_count": 49
        }
      ]
    },
    {
      "cell_type": "code",
      "execution_count": null,
      "metadata": {
        "colab": {
          "base_uri": "https://localhost:8080/",
          "height": 206
        },
        "outputId": "d93742c0-5f13-47d5-f936-7c22760b6196",
        "id": "tjU1rCNN9ZTN"
      },
      "outputs": [
        {
          "output_type": "execute_result",
          "data": {
            "text/plain": [
              "    Métricas_title  SGDClassifier1  BernoulliNB1     Ridge1 Métricas_Summary  \\\n",
              "0         f1_score        0.469238      0.516146   0.470428         f1_score   \n",
              "1  precision_score        0.721201      0.616457   0.678079  precision_score   \n",
              "2     recall_score        0.347747      0.443912   0.360141     recall_score   \n",
              "3   accuracy_score        0.340266      0.342924   0.334793   accuracy_score   \n",
              "4         log_loss       23.961590     23.514128  23.208179         log_loss   \n",
              "\n",
              "   SGDClassifier2  \n",
              "0        0.449579  \n",
              "1        0.700901  \n",
              "2        0.330921  \n",
              "3        0.332134  \n",
              "4       24.671401  "
            ],
            "text/html": [
              "\n",
              "  <div id=\"df-f886e643-09ba-40ba-99ca-0735c7e6e823\">\n",
              "    <div class=\"colab-df-container\">\n",
              "      <div>\n",
              "<style scoped>\n",
              "    .dataframe tbody tr th:only-of-type {\n",
              "        vertical-align: middle;\n",
              "    }\n",
              "\n",
              "    .dataframe tbody tr th {\n",
              "        vertical-align: top;\n",
              "    }\n",
              "\n",
              "    .dataframe thead th {\n",
              "        text-align: right;\n",
              "    }\n",
              "</style>\n",
              "<table border=\"1\" class=\"dataframe\">\n",
              "  <thead>\n",
              "    <tr style=\"text-align: right;\">\n",
              "      <th></th>\n",
              "      <th>Métricas_title</th>\n",
              "      <th>SGDClassifier1</th>\n",
              "      <th>BernoulliNB1</th>\n",
              "      <th>Ridge1</th>\n",
              "      <th>Métricas_Summary</th>\n",
              "      <th>SGDClassifier2</th>\n",
              "    </tr>\n",
              "  </thead>\n",
              "  <tbody>\n",
              "    <tr>\n",
              "      <th>0</th>\n",
              "      <td>f1_score</td>\n",
              "      <td>0.469238</td>\n",
              "      <td>0.516146</td>\n",
              "      <td>0.470428</td>\n",
              "      <td>f1_score</td>\n",
              "      <td>0.449579</td>\n",
              "    </tr>\n",
              "    <tr>\n",
              "      <th>1</th>\n",
              "      <td>precision_score</td>\n",
              "      <td>0.721201</td>\n",
              "      <td>0.616457</td>\n",
              "      <td>0.678079</td>\n",
              "      <td>precision_score</td>\n",
              "      <td>0.700901</td>\n",
              "    </tr>\n",
              "    <tr>\n",
              "      <th>2</th>\n",
              "      <td>recall_score</td>\n",
              "      <td>0.347747</td>\n",
              "      <td>0.443912</td>\n",
              "      <td>0.360141</td>\n",
              "      <td>recall_score</td>\n",
              "      <td>0.330921</td>\n",
              "    </tr>\n",
              "    <tr>\n",
              "      <th>3</th>\n",
              "      <td>accuracy_score</td>\n",
              "      <td>0.340266</td>\n",
              "      <td>0.342924</td>\n",
              "      <td>0.334793</td>\n",
              "      <td>accuracy_score</td>\n",
              "      <td>0.332134</td>\n",
              "    </tr>\n",
              "    <tr>\n",
              "      <th>4</th>\n",
              "      <td>log_loss</td>\n",
              "      <td>23.961590</td>\n",
              "      <td>23.514128</td>\n",
              "      <td>23.208179</td>\n",
              "      <td>log_loss</td>\n",
              "      <td>24.671401</td>\n",
              "    </tr>\n",
              "  </tbody>\n",
              "</table>\n",
              "</div>\n",
              "      <button class=\"colab-df-convert\" onclick=\"convertToInteractive('df-f886e643-09ba-40ba-99ca-0735c7e6e823')\"\n",
              "              title=\"Convert this dataframe to an interactive table.\"\n",
              "              style=\"display:none;\">\n",
              "        \n",
              "  <svg xmlns=\"http://www.w3.org/2000/svg\" height=\"24px\"viewBox=\"0 0 24 24\"\n",
              "       width=\"24px\">\n",
              "    <path d=\"M0 0h24v24H0V0z\" fill=\"none\"/>\n",
              "    <path d=\"M18.56 5.44l.94 2.06.94-2.06 2.06-.94-2.06-.94-.94-2.06-.94 2.06-2.06.94zm-11 1L8.5 8.5l.94-2.06 2.06-.94-2.06-.94L8.5 2.5l-.94 2.06-2.06.94zm10 10l.94 2.06.94-2.06 2.06-.94-2.06-.94-.94-2.06-.94 2.06-2.06.94z\"/><path d=\"M17.41 7.96l-1.37-1.37c-.4-.4-.92-.59-1.43-.59-.52 0-1.04.2-1.43.59L10.3 9.45l-7.72 7.72c-.78.78-.78 2.05 0 2.83L4 21.41c.39.39.9.59 1.41.59.51 0 1.02-.2 1.41-.59l7.78-7.78 2.81-2.81c.8-.78.8-2.07 0-2.86zM5.41 20L4 18.59l7.72-7.72 1.47 1.35L5.41 20z\"/>\n",
              "  </svg>\n",
              "      </button>\n",
              "      \n",
              "  <style>\n",
              "    .colab-df-container {\n",
              "      display:flex;\n",
              "      flex-wrap:wrap;\n",
              "      gap: 12px;\n",
              "    }\n",
              "\n",
              "    .colab-df-convert {\n",
              "      background-color: #E8F0FE;\n",
              "      border: none;\n",
              "      border-radius: 50%;\n",
              "      cursor: pointer;\n",
              "      display: none;\n",
              "      fill: #1967D2;\n",
              "      height: 32px;\n",
              "      padding: 0 0 0 0;\n",
              "      width: 32px;\n",
              "    }\n",
              "\n",
              "    .colab-df-convert:hover {\n",
              "      background-color: #E2EBFA;\n",
              "      box-shadow: 0px 1px 2px rgba(60, 64, 67, 0.3), 0px 1px 3px 1px rgba(60, 64, 67, 0.15);\n",
              "      fill: #174EA6;\n",
              "    }\n",
              "\n",
              "    [theme=dark] .colab-df-convert {\n",
              "      background-color: #3B4455;\n",
              "      fill: #D2E3FC;\n",
              "    }\n",
              "\n",
              "    [theme=dark] .colab-df-convert:hover {\n",
              "      background-color: #434B5C;\n",
              "      box-shadow: 0px 1px 3px 1px rgba(0, 0, 0, 0.15);\n",
              "      filter: drop-shadow(0px 1px 2px rgba(0, 0, 0, 0.3));\n",
              "      fill: #FFFFFF;\n",
              "    }\n",
              "  </style>\n",
              "\n",
              "      <script>\n",
              "        const buttonEl =\n",
              "          document.querySelector('#df-f886e643-09ba-40ba-99ca-0735c7e6e823 button.colab-df-convert');\n",
              "        buttonEl.style.display =\n",
              "          google.colab.kernel.accessAllowed ? 'block' : 'none';\n",
              "\n",
              "        async function convertToInteractive(key) {\n",
              "          const element = document.querySelector('#df-f886e643-09ba-40ba-99ca-0735c7e6e823');\n",
              "          const dataTable =\n",
              "            await google.colab.kernel.invokeFunction('convertToInteractive',\n",
              "                                                     [key], {});\n",
              "          if (!dataTable) return;\n",
              "\n",
              "          const docLinkHtml = 'Like what you see? Visit the ' +\n",
              "            '<a target=\"_blank\" href=https://colab.research.google.com/notebooks/data_table.ipynb>data table notebook</a>'\n",
              "            + ' to learn more about interactive tables.';\n",
              "          element.innerHTML = '';\n",
              "          dataTable['output_type'] = 'display_data';\n",
              "          await google.colab.output.renderOutput(dataTable, element);\n",
              "          const docLink = document.createElement('div');\n",
              "          docLink.innerHTML = docLinkHtml;\n",
              "          element.appendChild(docLink);\n",
              "        }\n",
              "      </script>\n",
              "    </div>\n",
              "  </div>\n",
              "  "
            ]
          },
          "metadata": {},
          "execution_count": 50
        }
      ],
      "source": [
        "X_train, X_test,y_train, y_test = train_test_split(X_summ, y,test_size=0.20, stratify = y, random_state=10)\n",
        "\n",
        "\n",
        "svm = SGDClassifier() \n",
        "clf = OneVsRestClassifier(svm)\n",
        "clf.fit(X_train,y_train)\n",
        "y_pred = clf.predict(X_test)\n",
        "\n",
        "m = \"SGDClassifier2\"\n",
        "metricas[m] = [f1_score(y_test, y_pred, average=\"micro\"),\n",
        "                    precision_score(y_test, y_pred, average='micro'),\n",
        "                     recall_score(y_test, y_pred, average='micro'),\n",
        "                     accuracy_score(y_test, y_pred),\n",
        "                      log_loss(y_test, y_pred)]\n",
        "metricas"
      ]
    },
    {
      "cell_type": "code",
      "source": [
        "BNB = BernoulliNB() \n",
        "clf = OneVsRestClassifier(BNB)\n",
        "clf.fit(X_train,y_train)\n",
        "y_pred = clf.predict(X_test)\n",
        "\n",
        "m = \"BernoulliNB2\"\n",
        "metricas[m] = [f1_score(y_test, y_pred, average=\"micro\"),\n",
        "                    precision_score(y_test, y_pred, average='micro'),\n",
        "                     recall_score(y_test, y_pred, average='micro'),\n",
        "                     accuracy_score(y_test, y_pred),\n",
        "                      log_loss(y_test, y_pred)]\n",
        "metricas"
      ],
      "metadata": {
        "colab": {
          "base_uri": "https://localhost:8080/",
          "height": 206
        },
        "outputId": "bfd7498f-7145-4a9c-baa7-45e18deb120a",
        "id": "xfS2iYGG9ZTP"
      },
      "execution_count": null,
      "outputs": [
        {
          "output_type": "execute_result",
          "data": {
            "text/plain": [
              "    Métricas_title  SGDClassifier1  BernoulliNB1     Ridge1 Métricas_Summary  \\\n",
              "0         f1_score        0.469238      0.516146   0.470428         f1_score   \n",
              "1  precision_score        0.721201      0.616457   0.678079  precision_score   \n",
              "2     recall_score        0.347747      0.443912   0.360141     recall_score   \n",
              "3   accuracy_score        0.340266      0.342924   0.334793   accuracy_score   \n",
              "4         log_loss       23.961590     23.514128  23.208179         log_loss   \n",
              "\n",
              "   SGDClassifier2  BernoulliNB2  \n",
              "0        0.449579      0.389722  \n",
              "1        0.700901      0.448780  \n",
              "2        0.330921      0.344400  \n",
              "3        0.332134      0.388116  \n",
              "4       24.671401     23.631922  "
            ],
            "text/html": [
              "\n",
              "  <div id=\"df-e1befe80-27a5-48e9-8397-18ec115ad172\">\n",
              "    <div class=\"colab-df-container\">\n",
              "      <div>\n",
              "<style scoped>\n",
              "    .dataframe tbody tr th:only-of-type {\n",
              "        vertical-align: middle;\n",
              "    }\n",
              "\n",
              "    .dataframe tbody tr th {\n",
              "        vertical-align: top;\n",
              "    }\n",
              "\n",
              "    .dataframe thead th {\n",
              "        text-align: right;\n",
              "    }\n",
              "</style>\n",
              "<table border=\"1\" class=\"dataframe\">\n",
              "  <thead>\n",
              "    <tr style=\"text-align: right;\">\n",
              "      <th></th>\n",
              "      <th>Métricas_title</th>\n",
              "      <th>SGDClassifier1</th>\n",
              "      <th>BernoulliNB1</th>\n",
              "      <th>Ridge1</th>\n",
              "      <th>Métricas_Summary</th>\n",
              "      <th>SGDClassifier2</th>\n",
              "      <th>BernoulliNB2</th>\n",
              "    </tr>\n",
              "  </thead>\n",
              "  <tbody>\n",
              "    <tr>\n",
              "      <th>0</th>\n",
              "      <td>f1_score</td>\n",
              "      <td>0.469238</td>\n",
              "      <td>0.516146</td>\n",
              "      <td>0.470428</td>\n",
              "      <td>f1_score</td>\n",
              "      <td>0.449579</td>\n",
              "      <td>0.389722</td>\n",
              "    </tr>\n",
              "    <tr>\n",
              "      <th>1</th>\n",
              "      <td>precision_score</td>\n",
              "      <td>0.721201</td>\n",
              "      <td>0.616457</td>\n",
              "      <td>0.678079</td>\n",
              "      <td>precision_score</td>\n",
              "      <td>0.700901</td>\n",
              "      <td>0.448780</td>\n",
              "    </tr>\n",
              "    <tr>\n",
              "      <th>2</th>\n",
              "      <td>recall_score</td>\n",
              "      <td>0.347747</td>\n",
              "      <td>0.443912</td>\n",
              "      <td>0.360141</td>\n",
              "      <td>recall_score</td>\n",
              "      <td>0.330921</td>\n",
              "      <td>0.344400</td>\n",
              "    </tr>\n",
              "    <tr>\n",
              "      <th>3</th>\n",
              "      <td>accuracy_score</td>\n",
              "      <td>0.340266</td>\n",
              "      <td>0.342924</td>\n",
              "      <td>0.334793</td>\n",
              "      <td>accuracy_score</td>\n",
              "      <td>0.332134</td>\n",
              "      <td>0.388116</td>\n",
              "    </tr>\n",
              "    <tr>\n",
              "      <th>4</th>\n",
              "      <td>log_loss</td>\n",
              "      <td>23.961590</td>\n",
              "      <td>23.514128</td>\n",
              "      <td>23.208179</td>\n",
              "      <td>log_loss</td>\n",
              "      <td>24.671401</td>\n",
              "      <td>23.631922</td>\n",
              "    </tr>\n",
              "  </tbody>\n",
              "</table>\n",
              "</div>\n",
              "      <button class=\"colab-df-convert\" onclick=\"convertToInteractive('df-e1befe80-27a5-48e9-8397-18ec115ad172')\"\n",
              "              title=\"Convert this dataframe to an interactive table.\"\n",
              "              style=\"display:none;\">\n",
              "        \n",
              "  <svg xmlns=\"http://www.w3.org/2000/svg\" height=\"24px\"viewBox=\"0 0 24 24\"\n",
              "       width=\"24px\">\n",
              "    <path d=\"M0 0h24v24H0V0z\" fill=\"none\"/>\n",
              "    <path d=\"M18.56 5.44l.94 2.06.94-2.06 2.06-.94-2.06-.94-.94-2.06-.94 2.06-2.06.94zm-11 1L8.5 8.5l.94-2.06 2.06-.94-2.06-.94L8.5 2.5l-.94 2.06-2.06.94zm10 10l.94 2.06.94-2.06 2.06-.94-2.06-.94-.94-2.06-.94 2.06-2.06.94z\"/><path d=\"M17.41 7.96l-1.37-1.37c-.4-.4-.92-.59-1.43-.59-.52 0-1.04.2-1.43.59L10.3 9.45l-7.72 7.72c-.78.78-.78 2.05 0 2.83L4 21.41c.39.39.9.59 1.41.59.51 0 1.02-.2 1.41-.59l7.78-7.78 2.81-2.81c.8-.78.8-2.07 0-2.86zM5.41 20L4 18.59l7.72-7.72 1.47 1.35L5.41 20z\"/>\n",
              "  </svg>\n",
              "      </button>\n",
              "      \n",
              "  <style>\n",
              "    .colab-df-container {\n",
              "      display:flex;\n",
              "      flex-wrap:wrap;\n",
              "      gap: 12px;\n",
              "    }\n",
              "\n",
              "    .colab-df-convert {\n",
              "      background-color: #E8F0FE;\n",
              "      border: none;\n",
              "      border-radius: 50%;\n",
              "      cursor: pointer;\n",
              "      display: none;\n",
              "      fill: #1967D2;\n",
              "      height: 32px;\n",
              "      padding: 0 0 0 0;\n",
              "      width: 32px;\n",
              "    }\n",
              "\n",
              "    .colab-df-convert:hover {\n",
              "      background-color: #E2EBFA;\n",
              "      box-shadow: 0px 1px 2px rgba(60, 64, 67, 0.3), 0px 1px 3px 1px rgba(60, 64, 67, 0.15);\n",
              "      fill: #174EA6;\n",
              "    }\n",
              "\n",
              "    [theme=dark] .colab-df-convert {\n",
              "      background-color: #3B4455;\n",
              "      fill: #D2E3FC;\n",
              "    }\n",
              "\n",
              "    [theme=dark] .colab-df-convert:hover {\n",
              "      background-color: #434B5C;\n",
              "      box-shadow: 0px 1px 3px 1px rgba(0, 0, 0, 0.15);\n",
              "      filter: drop-shadow(0px 1px 2px rgba(0, 0, 0, 0.3));\n",
              "      fill: #FFFFFF;\n",
              "    }\n",
              "  </style>\n",
              "\n",
              "      <script>\n",
              "        const buttonEl =\n",
              "          document.querySelector('#df-e1befe80-27a5-48e9-8397-18ec115ad172 button.colab-df-convert');\n",
              "        buttonEl.style.display =\n",
              "          google.colab.kernel.accessAllowed ? 'block' : 'none';\n",
              "\n",
              "        async function convertToInteractive(key) {\n",
              "          const element = document.querySelector('#df-e1befe80-27a5-48e9-8397-18ec115ad172');\n",
              "          const dataTable =\n",
              "            await google.colab.kernel.invokeFunction('convertToInteractive',\n",
              "                                                     [key], {});\n",
              "          if (!dataTable) return;\n",
              "\n",
              "          const docLinkHtml = 'Like what you see? Visit the ' +\n",
              "            '<a target=\"_blank\" href=https://colab.research.google.com/notebooks/data_table.ipynb>data table notebook</a>'\n",
              "            + ' to learn more about interactive tables.';\n",
              "          element.innerHTML = '';\n",
              "          dataTable['output_type'] = 'display_data';\n",
              "          await google.colab.output.renderOutput(dataTable, element);\n",
              "          const docLink = document.createElement('div');\n",
              "          docLink.innerHTML = docLinkHtml;\n",
              "          element.appendChild(docLink);\n",
              "        }\n",
              "      </script>\n",
              "    </div>\n",
              "  </div>\n",
              "  "
            ]
          },
          "metadata": {},
          "execution_count": 51
        }
      ]
    },
    {
      "cell_type": "code",
      "source": [
        "Ridge = RidgeClassifier()\n",
        "clf = OneVsRestClassifier(Ridge)\n",
        "clf.fit(X_train,y_train)\n",
        "y_pred = clf.predict(X_test)\n",
        "\n",
        "m = \"Ridge2\"\n",
        "metricas[m] = [f1_score(y_test, y_pred, average=\"micro\"),\n",
        "                    precision_score(y_test, y_pred, average='micro'),\n",
        "                     recall_score(y_test, y_pred, average='micro'),\n",
        "                     accuracy_score(y_test, y_pred),\n",
        "                      log_loss(y_test, y_pred)]\n",
        "metricas"
      ],
      "metadata": {
        "colab": {
          "base_uri": "https://localhost:8080/",
          "height": 206
        },
        "id": "yh20VOV5loGC",
        "outputId": "f6d4c009-803e-4523-8c49-5e23e5a69978"
      },
      "execution_count": null,
      "outputs": [
        {
          "output_type": "execute_result",
          "data": {
            "text/plain": [
              "    Métricas_title  SGDClassifier1  BernoulliNB1     Ridge1 Métricas_Summary  \\\n",
              "0         f1_score        0.469238      0.516146   0.470428         f1_score   \n",
              "1  precision_score        0.721201      0.616457   0.678079  precision_score   \n",
              "2     recall_score        0.347747      0.443912   0.360141     recall_score   \n",
              "3   accuracy_score        0.340266      0.342924   0.334793   accuracy_score   \n",
              "4         log_loss       23.961590     23.514128  23.208179         log_loss   \n",
              "\n",
              "   SGDClassifier2  BernoulliNB2     Ridge2  \n",
              "0        0.449579      0.389722   0.451527  \n",
              "1        0.700901      0.448780   0.683670  \n",
              "2        0.330921      0.344400   0.337073  \n",
              "3        0.332134      0.388116   0.339797  \n",
              "4       24.671401     23.631922  22.148222  "
            ],
            "text/html": [
              "\n",
              "  <div id=\"df-31a207aa-2381-4f0b-a14a-30a9294e6225\">\n",
              "    <div class=\"colab-df-container\">\n",
              "      <div>\n",
              "<style scoped>\n",
              "    .dataframe tbody tr th:only-of-type {\n",
              "        vertical-align: middle;\n",
              "    }\n",
              "\n",
              "    .dataframe tbody tr th {\n",
              "        vertical-align: top;\n",
              "    }\n",
              "\n",
              "    .dataframe thead th {\n",
              "        text-align: right;\n",
              "    }\n",
              "</style>\n",
              "<table border=\"1\" class=\"dataframe\">\n",
              "  <thead>\n",
              "    <tr style=\"text-align: right;\">\n",
              "      <th></th>\n",
              "      <th>Métricas_title</th>\n",
              "      <th>SGDClassifier1</th>\n",
              "      <th>BernoulliNB1</th>\n",
              "      <th>Ridge1</th>\n",
              "      <th>Métricas_Summary</th>\n",
              "      <th>SGDClassifier2</th>\n",
              "      <th>BernoulliNB2</th>\n",
              "      <th>Ridge2</th>\n",
              "    </tr>\n",
              "  </thead>\n",
              "  <tbody>\n",
              "    <tr>\n",
              "      <th>0</th>\n",
              "      <td>f1_score</td>\n",
              "      <td>0.469238</td>\n",
              "      <td>0.516146</td>\n",
              "      <td>0.470428</td>\n",
              "      <td>f1_score</td>\n",
              "      <td>0.449579</td>\n",
              "      <td>0.389722</td>\n",
              "      <td>0.451527</td>\n",
              "    </tr>\n",
              "    <tr>\n",
              "      <th>1</th>\n",
              "      <td>precision_score</td>\n",
              "      <td>0.721201</td>\n",
              "      <td>0.616457</td>\n",
              "      <td>0.678079</td>\n",
              "      <td>precision_score</td>\n",
              "      <td>0.700901</td>\n",
              "      <td>0.448780</td>\n",
              "      <td>0.683670</td>\n",
              "    </tr>\n",
              "    <tr>\n",
              "      <th>2</th>\n",
              "      <td>recall_score</td>\n",
              "      <td>0.347747</td>\n",
              "      <td>0.443912</td>\n",
              "      <td>0.360141</td>\n",
              "      <td>recall_score</td>\n",
              "      <td>0.330921</td>\n",
              "      <td>0.344400</td>\n",
              "      <td>0.337073</td>\n",
              "    </tr>\n",
              "    <tr>\n",
              "      <th>3</th>\n",
              "      <td>accuracy_score</td>\n",
              "      <td>0.340266</td>\n",
              "      <td>0.342924</td>\n",
              "      <td>0.334793</td>\n",
              "      <td>accuracy_score</td>\n",
              "      <td>0.332134</td>\n",
              "      <td>0.388116</td>\n",
              "      <td>0.339797</td>\n",
              "    </tr>\n",
              "    <tr>\n",
              "      <th>4</th>\n",
              "      <td>log_loss</td>\n",
              "      <td>23.961590</td>\n",
              "      <td>23.514128</td>\n",
              "      <td>23.208179</td>\n",
              "      <td>log_loss</td>\n",
              "      <td>24.671401</td>\n",
              "      <td>23.631922</td>\n",
              "      <td>22.148222</td>\n",
              "    </tr>\n",
              "  </tbody>\n",
              "</table>\n",
              "</div>\n",
              "      <button class=\"colab-df-convert\" onclick=\"convertToInteractive('df-31a207aa-2381-4f0b-a14a-30a9294e6225')\"\n",
              "              title=\"Convert this dataframe to an interactive table.\"\n",
              "              style=\"display:none;\">\n",
              "        \n",
              "  <svg xmlns=\"http://www.w3.org/2000/svg\" height=\"24px\"viewBox=\"0 0 24 24\"\n",
              "       width=\"24px\">\n",
              "    <path d=\"M0 0h24v24H0V0z\" fill=\"none\"/>\n",
              "    <path d=\"M18.56 5.44l.94 2.06.94-2.06 2.06-.94-2.06-.94-.94-2.06-.94 2.06-2.06.94zm-11 1L8.5 8.5l.94-2.06 2.06-.94-2.06-.94L8.5 2.5l-.94 2.06-2.06.94zm10 10l.94 2.06.94-2.06 2.06-.94-2.06-.94-.94-2.06-.94 2.06-2.06.94z\"/><path d=\"M17.41 7.96l-1.37-1.37c-.4-.4-.92-.59-1.43-.59-.52 0-1.04.2-1.43.59L10.3 9.45l-7.72 7.72c-.78.78-.78 2.05 0 2.83L4 21.41c.39.39.9.59 1.41.59.51 0 1.02-.2 1.41-.59l7.78-7.78 2.81-2.81c.8-.78.8-2.07 0-2.86zM5.41 20L4 18.59l7.72-7.72 1.47 1.35L5.41 20z\"/>\n",
              "  </svg>\n",
              "      </button>\n",
              "      \n",
              "  <style>\n",
              "    .colab-df-container {\n",
              "      display:flex;\n",
              "      flex-wrap:wrap;\n",
              "      gap: 12px;\n",
              "    }\n",
              "\n",
              "    .colab-df-convert {\n",
              "      background-color: #E8F0FE;\n",
              "      border: none;\n",
              "      border-radius: 50%;\n",
              "      cursor: pointer;\n",
              "      display: none;\n",
              "      fill: #1967D2;\n",
              "      height: 32px;\n",
              "      padding: 0 0 0 0;\n",
              "      width: 32px;\n",
              "    }\n",
              "\n",
              "    .colab-df-convert:hover {\n",
              "      background-color: #E2EBFA;\n",
              "      box-shadow: 0px 1px 2px rgba(60, 64, 67, 0.3), 0px 1px 3px 1px rgba(60, 64, 67, 0.15);\n",
              "      fill: #174EA6;\n",
              "    }\n",
              "\n",
              "    [theme=dark] .colab-df-convert {\n",
              "      background-color: #3B4455;\n",
              "      fill: #D2E3FC;\n",
              "    }\n",
              "\n",
              "    [theme=dark] .colab-df-convert:hover {\n",
              "      background-color: #434B5C;\n",
              "      box-shadow: 0px 1px 3px 1px rgba(0, 0, 0, 0.15);\n",
              "      filter: drop-shadow(0px 1px 2px rgba(0, 0, 0, 0.3));\n",
              "      fill: #FFFFFF;\n",
              "    }\n",
              "  </style>\n",
              "\n",
              "      <script>\n",
              "        const buttonEl =\n",
              "          document.querySelector('#df-31a207aa-2381-4f0b-a14a-30a9294e6225 button.colab-df-convert');\n",
              "        buttonEl.style.display =\n",
              "          google.colab.kernel.accessAllowed ? 'block' : 'none';\n",
              "\n",
              "        async function convertToInteractive(key) {\n",
              "          const element = document.querySelector('#df-31a207aa-2381-4f0b-a14a-30a9294e6225');\n",
              "          const dataTable =\n",
              "            await google.colab.kernel.invokeFunction('convertToInteractive',\n",
              "                                                     [key], {});\n",
              "          if (!dataTable) return;\n",
              "\n",
              "          const docLinkHtml = 'Like what you see? Visit the ' +\n",
              "            '<a target=\"_blank\" href=https://colab.research.google.com/notebooks/data_table.ipynb>data table notebook</a>'\n",
              "            + ' to learn more about interactive tables.';\n",
              "          element.innerHTML = '';\n",
              "          dataTable['output_type'] = 'display_data';\n",
              "          await google.colab.output.renderOutput(dataTable, element);\n",
              "          const docLink = document.createElement('div');\n",
              "          docLink.innerHTML = docLinkHtml;\n",
              "          element.appendChild(docLink);\n",
              "        }\n",
              "      </script>\n",
              "    </div>\n",
              "  </div>\n",
              "  "
            ]
          },
          "metadata": {},
          "execution_count": 52
        }
      ]
    },
    {
      "cell_type": "markdown",
      "source": [
        "##Questão 6)\n",
        "**Compare os resultados obtidos dos titles e abstracts. Qual atributo é mais discriminativo?** (1,0 ponto)"
      ],
      "metadata": {
        "id": "97vzxo2S7L5K"
      }
    },
    {
      "cell_type": "code",
      "source": [
        "metricas"
      ],
      "metadata": {
        "colab": {
          "base_uri": "https://localhost:8080/",
          "height": 206
        },
        "id": "z29APzlZ_jhT",
        "outputId": "ff2da4fc-1f17-4a92-b316-c622ffa95205"
      },
      "execution_count": null,
      "outputs": [
        {
          "output_type": "execute_result",
          "data": {
            "text/plain": [
              "    Métricas_title  SGDClassifier1  BernoulliNB1     Ridge1 Métricas_Summary  \\\n",
              "0         f1_score        0.469238      0.516146   0.470428         f1_score   \n",
              "1  precision_score        0.721201      0.616457   0.678079  precision_score   \n",
              "2     recall_score        0.347747      0.443912   0.360141     recall_score   \n",
              "3   accuracy_score        0.340266      0.342924   0.334793   accuracy_score   \n",
              "4         log_loss       23.961590     23.514128  23.208179         log_loss   \n",
              "\n",
              "   SGDClassifier2  BernoulliNB2     Ridge2  \n",
              "0        0.449579      0.389722   0.451527  \n",
              "1        0.700901      0.448780   0.683670  \n",
              "2        0.330921      0.344400   0.337073  \n",
              "3        0.332134      0.388116   0.339797  \n",
              "4       24.671401     23.631922  22.148222  "
            ],
            "text/html": [
              "\n",
              "  <div id=\"df-aac2f6ea-6b41-4e39-806a-20f4a99806e3\">\n",
              "    <div class=\"colab-df-container\">\n",
              "      <div>\n",
              "<style scoped>\n",
              "    .dataframe tbody tr th:only-of-type {\n",
              "        vertical-align: middle;\n",
              "    }\n",
              "\n",
              "    .dataframe tbody tr th {\n",
              "        vertical-align: top;\n",
              "    }\n",
              "\n",
              "    .dataframe thead th {\n",
              "        text-align: right;\n",
              "    }\n",
              "</style>\n",
              "<table border=\"1\" class=\"dataframe\">\n",
              "  <thead>\n",
              "    <tr style=\"text-align: right;\">\n",
              "      <th></th>\n",
              "      <th>Métricas_title</th>\n",
              "      <th>SGDClassifier1</th>\n",
              "      <th>BernoulliNB1</th>\n",
              "      <th>Ridge1</th>\n",
              "      <th>Métricas_Summary</th>\n",
              "      <th>SGDClassifier2</th>\n",
              "      <th>BernoulliNB2</th>\n",
              "      <th>Ridge2</th>\n",
              "    </tr>\n",
              "  </thead>\n",
              "  <tbody>\n",
              "    <tr>\n",
              "      <th>0</th>\n",
              "      <td>f1_score</td>\n",
              "      <td>0.469238</td>\n",
              "      <td>0.516146</td>\n",
              "      <td>0.470428</td>\n",
              "      <td>f1_score</td>\n",
              "      <td>0.449579</td>\n",
              "      <td>0.389722</td>\n",
              "      <td>0.451527</td>\n",
              "    </tr>\n",
              "    <tr>\n",
              "      <th>1</th>\n",
              "      <td>precision_score</td>\n",
              "      <td>0.721201</td>\n",
              "      <td>0.616457</td>\n",
              "      <td>0.678079</td>\n",
              "      <td>precision_score</td>\n",
              "      <td>0.700901</td>\n",
              "      <td>0.448780</td>\n",
              "      <td>0.683670</td>\n",
              "    </tr>\n",
              "    <tr>\n",
              "      <th>2</th>\n",
              "      <td>recall_score</td>\n",
              "      <td>0.347747</td>\n",
              "      <td>0.443912</td>\n",
              "      <td>0.360141</td>\n",
              "      <td>recall_score</td>\n",
              "      <td>0.330921</td>\n",
              "      <td>0.344400</td>\n",
              "      <td>0.337073</td>\n",
              "    </tr>\n",
              "    <tr>\n",
              "      <th>3</th>\n",
              "      <td>accuracy_score</td>\n",
              "      <td>0.340266</td>\n",
              "      <td>0.342924</td>\n",
              "      <td>0.334793</td>\n",
              "      <td>accuracy_score</td>\n",
              "      <td>0.332134</td>\n",
              "      <td>0.388116</td>\n",
              "      <td>0.339797</td>\n",
              "    </tr>\n",
              "    <tr>\n",
              "      <th>4</th>\n",
              "      <td>log_loss</td>\n",
              "      <td>23.961590</td>\n",
              "      <td>23.514128</td>\n",
              "      <td>23.208179</td>\n",
              "      <td>log_loss</td>\n",
              "      <td>24.671401</td>\n",
              "      <td>23.631922</td>\n",
              "      <td>22.148222</td>\n",
              "    </tr>\n",
              "  </tbody>\n",
              "</table>\n",
              "</div>\n",
              "      <button class=\"colab-df-convert\" onclick=\"convertToInteractive('df-aac2f6ea-6b41-4e39-806a-20f4a99806e3')\"\n",
              "              title=\"Convert this dataframe to an interactive table.\"\n",
              "              style=\"display:none;\">\n",
              "        \n",
              "  <svg xmlns=\"http://www.w3.org/2000/svg\" height=\"24px\"viewBox=\"0 0 24 24\"\n",
              "       width=\"24px\">\n",
              "    <path d=\"M0 0h24v24H0V0z\" fill=\"none\"/>\n",
              "    <path d=\"M18.56 5.44l.94 2.06.94-2.06 2.06-.94-2.06-.94-.94-2.06-.94 2.06-2.06.94zm-11 1L8.5 8.5l.94-2.06 2.06-.94-2.06-.94L8.5 2.5l-.94 2.06-2.06.94zm10 10l.94 2.06.94-2.06 2.06-.94-2.06-.94-.94-2.06-.94 2.06-2.06.94z\"/><path d=\"M17.41 7.96l-1.37-1.37c-.4-.4-.92-.59-1.43-.59-.52 0-1.04.2-1.43.59L10.3 9.45l-7.72 7.72c-.78.78-.78 2.05 0 2.83L4 21.41c.39.39.9.59 1.41.59.51 0 1.02-.2 1.41-.59l7.78-7.78 2.81-2.81c.8-.78.8-2.07 0-2.86zM5.41 20L4 18.59l7.72-7.72 1.47 1.35L5.41 20z\"/>\n",
              "  </svg>\n",
              "      </button>\n",
              "      \n",
              "  <style>\n",
              "    .colab-df-container {\n",
              "      display:flex;\n",
              "      flex-wrap:wrap;\n",
              "      gap: 12px;\n",
              "    }\n",
              "\n",
              "    .colab-df-convert {\n",
              "      background-color: #E8F0FE;\n",
              "      border: none;\n",
              "      border-radius: 50%;\n",
              "      cursor: pointer;\n",
              "      display: none;\n",
              "      fill: #1967D2;\n",
              "      height: 32px;\n",
              "      padding: 0 0 0 0;\n",
              "      width: 32px;\n",
              "    }\n",
              "\n",
              "    .colab-df-convert:hover {\n",
              "      background-color: #E2EBFA;\n",
              "      box-shadow: 0px 1px 2px rgba(60, 64, 67, 0.3), 0px 1px 3px 1px rgba(60, 64, 67, 0.15);\n",
              "      fill: #174EA6;\n",
              "    }\n",
              "\n",
              "    [theme=dark] .colab-df-convert {\n",
              "      background-color: #3B4455;\n",
              "      fill: #D2E3FC;\n",
              "    }\n",
              "\n",
              "    [theme=dark] .colab-df-convert:hover {\n",
              "      background-color: #434B5C;\n",
              "      box-shadow: 0px 1px 3px 1px rgba(0, 0, 0, 0.15);\n",
              "      filter: drop-shadow(0px 1px 2px rgba(0, 0, 0, 0.3));\n",
              "      fill: #FFFFFF;\n",
              "    }\n",
              "  </style>\n",
              "\n",
              "      <script>\n",
              "        const buttonEl =\n",
              "          document.querySelector('#df-aac2f6ea-6b41-4e39-806a-20f4a99806e3 button.colab-df-convert');\n",
              "        buttonEl.style.display =\n",
              "          google.colab.kernel.accessAllowed ? 'block' : 'none';\n",
              "\n",
              "        async function convertToInteractive(key) {\n",
              "          const element = document.querySelector('#df-aac2f6ea-6b41-4e39-806a-20f4a99806e3');\n",
              "          const dataTable =\n",
              "            await google.colab.kernel.invokeFunction('convertToInteractive',\n",
              "                                                     [key], {});\n",
              "          if (!dataTable) return;\n",
              "\n",
              "          const docLinkHtml = 'Like what you see? Visit the ' +\n",
              "            '<a target=\"_blank\" href=https://colab.research.google.com/notebooks/data_table.ipynb>data table notebook</a>'\n",
              "            + ' to learn more about interactive tables.';\n",
              "          element.innerHTML = '';\n",
              "          dataTable['output_type'] = 'display_data';\n",
              "          await google.colab.output.renderOutput(dataTable, element);\n",
              "          const docLink = document.createElement('div');\n",
              "          docLink.innerHTML = docLinkHtml;\n",
              "          element.appendChild(docLink);\n",
              "        }\n",
              "      </script>\n",
              "    </div>\n",
              "  </div>\n",
              "  "
            ]
          },
          "metadata": {},
          "execution_count": 53
        }
      ]
    },
    {
      "cell_type": "markdown",
      "source": [
        "Por incrivel que pareça, o atributo 'Summary', que é o resumo do artigo ficou pior classificado que o o tributo \"title, titulo do artigo. Não há uma diferença muito grande, porem a predição atravez do título ficou melhor."
      ],
      "metadata": {
        "id": "aa2K5aHFNIbP"
      }
    },
    {
      "cell_type": "markdown",
      "source": [
        "Neste projeto conseguimos fazer predições de artigos, os resultados não foram muito satisfatórios, porém é importante treinar e conhecer os métodos. Com toda certeza com mais tempo, experiência e se aprofundando mais no assunto conseguiriamos métricas melhores."
      ],
      "metadata": {
        "id": "U0k3RvSBeQgr"
      }
    }
  ],
  "metadata": {
    "accelerator": "GPU",
    "colab": {
      "name": "Módulo 4 - Projeto 2 - NLP: NLTK e Regex",
      "provenance": [],
      "collapsed_sections": []
    },
    "gpuClass": "standard",
    "kernelspec": {
      "display_name": "Python 3",
      "name": "python3"
    },
    "language_info": {
      "name": "python"
    }
  },
  "nbformat": 4,
  "nbformat_minor": 0
}